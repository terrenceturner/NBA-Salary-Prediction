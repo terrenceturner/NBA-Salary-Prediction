{
 "cells": [
  {
   "cell_type": "markdown",
   "metadata": {},
   "source": [
    "## Processing Data"
   ]
  },
  {
   "cell_type": "code",
   "execution_count": 1,
   "metadata": {},
   "outputs": [],
   "source": [
    "import numpy as np\n",
    "import pandas as pd\n",
    "import matplotlib.pyplot as plt\n",
    "%matplotlib inline\n",
    "import sklearn\n",
    "\n",
    "df_final = pd.read_pickle('NBA.pkl')"
   ]
  },
  {
   "cell_type": "code",
   "execution_count": 2,
   "metadata": {},
   "outputs": [
    {
     "data": {
      "text/html": [
       "<div>\n",
       "<style scoped>\n",
       "    .dataframe tbody tr th:only-of-type {\n",
       "        vertical-align: middle;\n",
       "    }\n",
       "\n",
       "    .dataframe tbody tr th {\n",
       "        vertical-align: top;\n",
       "    }\n",
       "\n",
       "    .dataframe thead th {\n",
       "        text-align: right;\n",
       "    }\n",
       "</style>\n",
       "<table border=\"1\" class=\"dataframe\">\n",
       "  <thead>\n",
       "    <tr style=\"text-align: right;\">\n",
       "      <th></th>\n",
       "      <th>Player</th>\n",
       "      <th>Pos_x</th>\n",
       "      <th>Team_x</th>\n",
       "      <th>Age_x</th>\n",
       "      <th>Yrs</th>\n",
       "      <th>Dollars</th>\n",
       "      <th>Guaranteed</th>\n",
       "      <th>% GTD</th>\n",
       "      <th>Avg. Salary</th>\n",
       "      <th>Free Agent</th>\n",
       "      <th>...</th>\n",
       "      <th>TRB</th>\n",
       "      <th>AST</th>\n",
       "      <th>STL</th>\n",
       "      <th>BLK</th>\n",
       "      <th>TOV</th>\n",
       "      <th>PF</th>\n",
       "      <th>PTS</th>\n",
       "      <th>PER</th>\n",
       "      <th>Team_y</th>\n",
       "      <th>GS</th>\n",
       "    </tr>\n",
       "  </thead>\n",
       "  <tbody>\n",
       "    <tr>\n",
       "      <td>9</td>\n",
       "      <td>James Harden</td>\n",
       "      <td>SG</td>\n",
       "      <td>HOU</td>\n",
       "      <td>30.0</td>\n",
       "      <td>4.0</td>\n",
       "      <td>171131520.0</td>\n",
       "      <td>171131520.0</td>\n",
       "      <td>100.0</td>\n",
       "      <td>42782880.0</td>\n",
       "      <td>2023.0</td>\n",
       "      <td>...</td>\n",
       "      <td>6.400000</td>\n",
       "      <td>7.400000</td>\n",
       "      <td>1.700000</td>\n",
       "      <td>0.900000</td>\n",
       "      <td>4.500000</td>\n",
       "      <td>3.400000</td>\n",
       "      <td>34.400000</td>\n",
       "      <td>28.4</td>\n",
       "      <td>HOU</td>\n",
       "      <td>61.0</td>\n",
       "    </tr>\n",
       "    <tr>\n",
       "      <td>0</td>\n",
       "      <td>Russell Westbrook</td>\n",
       "      <td>PG</td>\n",
       "      <td>HOUSigned w/OKC</td>\n",
       "      <td>31.0</td>\n",
       "      <td>5.0</td>\n",
       "      <td>206794070.0</td>\n",
       "      <td>206794070.0</td>\n",
       "      <td>100.0</td>\n",
       "      <td>41358814.0</td>\n",
       "      <td>2023.0</td>\n",
       "      <td>...</td>\n",
       "      <td>11.054795</td>\n",
       "      <td>10.739726</td>\n",
       "      <td>1.945205</td>\n",
       "      <td>0.452055</td>\n",
       "      <td>4.452055</td>\n",
       "      <td>3.356164</td>\n",
       "      <td>22.945205</td>\n",
       "      <td>21.1</td>\n",
       "      <td>NaN</td>\n",
       "      <td>NaN</td>\n",
       "    </tr>\n",
       "    <tr>\n",
       "      <td>16</td>\n",
       "      <td>Devin Booker</td>\n",
       "      <td>SG</td>\n",
       "      <td>PHX</td>\n",
       "      <td>23.0</td>\n",
       "      <td>5.0</td>\n",
       "      <td>158253000.0</td>\n",
       "      <td>158253000.0</td>\n",
       "      <td>100.0</td>\n",
       "      <td>31650600.0</td>\n",
       "      <td>2024.0</td>\n",
       "      <td>...</td>\n",
       "      <td>4.200000</td>\n",
       "      <td>6.600000</td>\n",
       "      <td>0.700000</td>\n",
       "      <td>0.300000</td>\n",
       "      <td>3.900000</td>\n",
       "      <td>3.000000</td>\n",
       "      <td>26.100000</td>\n",
       "      <td>19.8</td>\n",
       "      <td>PHO</td>\n",
       "      <td>62.0</td>\n",
       "    </tr>\n",
       "    <tr>\n",
       "      <td>183</td>\n",
       "      <td>Trae Young</td>\n",
       "      <td>PG</td>\n",
       "      <td>ATL</td>\n",
       "      <td>21.0</td>\n",
       "      <td>3.0</td>\n",
       "      <td>18201240.0</td>\n",
       "      <td>18201240.0</td>\n",
       "      <td>100.0</td>\n",
       "      <td>6067080.0</td>\n",
       "      <td>2022.0</td>\n",
       "      <td>...</td>\n",
       "      <td>3.716049</td>\n",
       "      <td>8.061728</td>\n",
       "      <td>0.888889</td>\n",
       "      <td>0.185185</td>\n",
       "      <td>3.802469</td>\n",
       "      <td>1.728395</td>\n",
       "      <td>19.123457</td>\n",
       "      <td>17.0</td>\n",
       "      <td>NaN</td>\n",
       "      <td>NaN</td>\n",
       "    </tr>\n",
       "    <tr>\n",
       "      <td>18</td>\n",
       "      <td>LeBron James</td>\n",
       "      <td>SF</td>\n",
       "      <td>LAL</td>\n",
       "      <td>35.0</td>\n",
       "      <td>4.0</td>\n",
       "      <td>153312846.0</td>\n",
       "      <td>153312846.0</td>\n",
       "      <td>100.0</td>\n",
       "      <td>38328212.0</td>\n",
       "      <td>2022.0</td>\n",
       "      <td>...</td>\n",
       "      <td>8.454545</td>\n",
       "      <td>8.254545</td>\n",
       "      <td>1.309091</td>\n",
       "      <td>0.600000</td>\n",
       "      <td>3.581818</td>\n",
       "      <td>1.709091</td>\n",
       "      <td>27.363636</td>\n",
       "      <td>25.6</td>\n",
       "      <td>NaN</td>\n",
       "      <td>NaN</td>\n",
       "    </tr>\n",
       "  </tbody>\n",
       "</table>\n",
       "<p>5 rows × 41 columns</p>\n",
       "</div>"
      ],
      "text/plain": [
       "                Player Pos_x           Team_x  Age_x  Yrs      Dollars  \\\n",
       "9         James Harden    SG              HOU   30.0  4.0  171131520.0   \n",
       "0    Russell Westbrook    PG  HOUSigned w/OKC   31.0  5.0  206794070.0   \n",
       "16        Devin Booker    SG              PHX   23.0  5.0  158253000.0   \n",
       "183         Trae Young    PG              ATL   21.0  3.0   18201240.0   \n",
       "18        LeBron James    SF              LAL   35.0  4.0  153312846.0   \n",
       "\n",
       "      Guaranteed  % GTD  Avg. Salary  Free Agent  ...        TRB        AST  \\\n",
       "9    171131520.0  100.0   42782880.0      2023.0  ...   6.400000   7.400000   \n",
       "0    206794070.0  100.0   41358814.0      2023.0  ...  11.054795  10.739726   \n",
       "16   158253000.0  100.0   31650600.0      2024.0  ...   4.200000   6.600000   \n",
       "183   18201240.0  100.0    6067080.0      2022.0  ...   3.716049   8.061728   \n",
       "18   153312846.0  100.0   38328212.0      2022.0  ...   8.454545   8.254545   \n",
       "\n",
       "          STL       BLK       TOV        PF        PTS   PER  Team_y    GS  \n",
       "9    1.700000  0.900000  4.500000  3.400000  34.400000  28.4     HOU  61.0  \n",
       "0    1.945205  0.452055  4.452055  3.356164  22.945205  21.1     NaN   NaN  \n",
       "16   0.700000  0.300000  3.900000  3.000000  26.100000  19.8     PHO  62.0  \n",
       "183  0.888889  0.185185  3.802469  1.728395  19.123457  17.0     NaN   NaN  \n",
       "18   1.309091  0.600000  3.581818  1.709091  27.363636  25.6     NaN   NaN  \n",
       "\n",
       "[5 rows x 41 columns]"
      ]
     },
     "execution_count": 2,
     "metadata": {},
     "output_type": "execute_result"
    }
   ],
   "source": [
    "df_final.head()"
   ]
  },
  {
   "cell_type": "code",
   "execution_count": 3,
   "metadata": {},
   "outputs": [
    {
     "data": {
      "text/plain": [
       "Index(['Player', 'Pos_x', 'Team_x', 'Age_x', 'Yrs', 'Dollars', 'Guaranteed',\n",
       "       '% GTD', 'Avg. Salary', 'Free Agent', 'Year', 'Contract Ends', 'Pos_y',\n",
       "       'Age_y', 'G', 'FG%', '3P%', '2P%', 'eFG%', 'FT%', 'MP', 'ORB', 'DRB',\n",
       "       'FG', 'FGA', '3P', '3PA', '2P', '2PA', 'FT', 'FTA', 'TRB', 'AST', 'STL',\n",
       "       'BLK', 'TOV', 'PF', 'PTS', 'PER', 'Team_y', 'GS'],\n",
       "      dtype='object')"
      ]
     },
     "execution_count": 3,
     "metadata": {},
     "output_type": "execute_result"
    }
   ],
   "source": [
    "df_final.columns"
   ]
  },
  {
   "cell_type": "code",
   "execution_count": 4,
   "metadata": {},
   "outputs": [
    {
     "data": {
      "text/plain": [
       "Index(['Age', 'Yrs', '% GTD', 'Avg. Salary', 'Free Agent', 'Year',\n",
       "       'Contract Ends', 'G', 'FG%', '3P%', '2P%', 'eFG%', 'FT%', 'MP', 'ORB',\n",
       "       'DRB', 'FG', 'FGA', '3P', '3PA', '2P', '2PA', 'FT', 'FTA', 'TRB', 'AST',\n",
       "       'STL', 'BLK', 'TOV', 'PF', 'PTS', 'PER', 'GS'],\n",
       "      dtype='object')"
      ]
     },
     "execution_count": 4,
     "metadata": {},
     "output_type": "execute_result"
    }
   ],
   "source": [
    "#Drop Unnecessary Categorical columns. Also Dollars & Guaranteed to avoid Data Leakage\n",
    "df_final = df_final.drop(columns=['Player', 'Pos_x', 'Team_x', 'Pos_y', 'Age_y', 'Team_y', 'Dollars', 'Guaranteed'])\n",
    "\n",
    "#Rename Age column\n",
    "df_final.rename(columns={'Age_x':'Age'}, inplace=True)\n",
    "\n",
    "df_final.columns"
   ]
  },
  {
   "cell_type": "code",
   "execution_count": 5,
   "metadata": {},
   "outputs": [
    {
     "data": {
      "text/plain": [
       "Age              float64\n",
       "Yrs              float64\n",
       "% GTD            float64\n",
       "Avg. Salary      float64\n",
       "Free Agent       float64\n",
       "Year               int64\n",
       "Contract Ends    float64\n",
       "G                float64\n",
       "FG%              float64\n",
       "3P%              float64\n",
       "2P%              float64\n",
       "eFG%             float64\n",
       "FT%              float64\n",
       "MP               float64\n",
       "ORB              float64\n",
       "DRB              float64\n",
       "FG               float64\n",
       "FGA              float64\n",
       "3P               float64\n",
       "3PA              float64\n",
       "2P               float64\n",
       "2PA              float64\n",
       "FT               float64\n",
       "FTA              float64\n",
       "TRB              float64\n",
       "AST              float64\n",
       "STL              float64\n",
       "BLK              float64\n",
       "TOV              float64\n",
       "PF               float64\n",
       "PTS              float64\n",
       "PER              float64\n",
       "GS               float64\n",
       "dtype: object"
      ]
     },
     "execution_count": 5,
     "metadata": {},
     "output_type": "execute_result"
    }
   ],
   "source": [
    "#Check to make sure all columns are numeric\n",
    "df_final.dtypes"
   ]
  },
  {
   "cell_type": "code",
   "execution_count": 6,
   "metadata": {},
   "outputs": [
    {
     "name": "stdout",
     "output_type": "stream",
     "text": [
      "<class 'pandas.core.frame.DataFrame'>\n",
      "Int64Index: 405 entries, 9 to 412\n",
      "Data columns (total 33 columns):\n",
      "Age              405 non-null float64\n",
      "Yrs              405 non-null float64\n",
      "% GTD            405 non-null float64\n",
      "Avg. Salary      405 non-null float64\n",
      "Free Agent       405 non-null float64\n",
      "Year             405 non-null int64\n",
      "Contract Ends    405 non-null float64\n",
      "G                391 non-null float64\n",
      "FG%              391 non-null float64\n",
      "3P%              391 non-null float64\n",
      "2P%              391 non-null float64\n",
      "eFG%             391 non-null float64\n",
      "FT%              391 non-null float64\n",
      "MP               391 non-null float64\n",
      "ORB              391 non-null float64\n",
      "DRB              391 non-null float64\n",
      "FG               391 non-null float64\n",
      "FGA              391 non-null float64\n",
      "3P               391 non-null float64\n",
      "3PA              391 non-null float64\n",
      "2P               391 non-null float64\n",
      "2PA              391 non-null float64\n",
      "FT               391 non-null float64\n",
      "FTA              391 non-null float64\n",
      "TRB              391 non-null float64\n",
      "AST              391 non-null float64\n",
      "STL              391 non-null float64\n",
      "BLK              391 non-null float64\n",
      "TOV              391 non-null float64\n",
      "PF               391 non-null float64\n",
      "PTS              391 non-null float64\n",
      "PER              391 non-null float64\n",
      "GS               180 non-null float64\n",
      "dtypes: float64(32), int64(1)\n",
      "memory usage: 107.6 KB\n"
     ]
    }
   ],
   "source": [
    "df_final.info()"
   ]
  },
  {
   "cell_type": "code",
   "execution_count": 7,
   "metadata": {},
   "outputs": [],
   "source": [
    "X = df_final.drop('Avg. Salary', axis=1).values\n",
    "y = df_final['Avg. Salary'].values"
   ]
  },
  {
   "cell_type": "markdown",
   "metadata": {},
   "source": [
    "## Imputing missing data in a ML Pipeline"
   ]
  },
  {
   "cell_type": "code",
   "execution_count": 8,
   "metadata": {},
   "outputs": [],
   "source": [
    "from sklearn.linear_model import ElasticNet\n",
    "from sklearn.model_selection import GridSearchCV\n",
    "from sklearn.model_selection import cross_val_score\n",
    "from sklearn.preprocessing import StandardScaler\n",
    "from sklearn.pipeline import Pipeline\n",
    "from sklearn.model_selection import train_test_split\n",
    "from sklearn.metrics import mean_squared_error\n",
    "from sklearn.ensemble import RandomForestRegressor\n",
    "from sklearn import metrics\n",
    "from sklearn.impute import SimpleImputer\n",
    "\n",
    "# Setup the pipeline steps: steps\n",
    "steps = [('imputation', SimpleImputer(missing_values=np.nan, strategy='mean')),\n",
    "         ('scaler', StandardScaler()),\n",
    "         ('rf', RandomForestRegressor())]\n",
    "\n",
    "# Create the pipeline: pipeline \n",
    "pipeline = Pipeline(steps)\n",
    "\n",
    "# Create train and test sets (80/20 split)\n",
    "X_train, X_test, y_train, y_test = train_test_split(X, y, test_size=0.2, random_state=42)"
   ]
  },
  {
   "cell_type": "markdown",
   "metadata": {},
   "source": [
    "## Hyperameters GridSearchCV"
   ]
  },
  {
   "cell_type": "code",
   "execution_count": 10,
   "metadata": {},
   "outputs": [
    {
     "name": "stdout",
     "output_type": "stream",
     "text": [
      "Fitting 5 folds for each of 180 candidates, totalling 900 fits\n"
     ]
    },
    {
     "name": "stderr",
     "output_type": "stream",
     "text": [
      "[Parallel(n_jobs=-1)]: Using backend LokyBackend with 4 concurrent workers.\n",
      "[Parallel(n_jobs=-1)]: Done  24 tasks      | elapsed:   10.8s\n",
      "[Parallel(n_jobs=-1)]: Done 120 tasks      | elapsed:  1.2min\n",
      "[Parallel(n_jobs=-1)]: Done 280 tasks      | elapsed:  2.9min\n",
      "[Parallel(n_jobs=-1)]: Done 504 tasks      | elapsed:  5.8min\n",
      "[Parallel(n_jobs=-1)]: Done 792 tasks      | elapsed:  9.7min\n",
      "[Parallel(n_jobs=-1)]: Done 900 out of 900 | elapsed: 11.1min finished\n"
     ]
    },
    {
     "data": {
      "text/plain": [
       "{'rf__max_depth': 8,\n",
       " 'rf__min_samples_leaf': 3,\n",
       " 'rf__min_samples_split': 8,\n",
       " 'rf__n_estimators': 200}"
      ]
     },
     "execution_count": 10,
     "metadata": {},
     "output_type": "execute_result"
    }
   ],
   "source": [
    "param_grid = {\n",
    "    'rf__n_estimators': [100, 200, 300, 1000],\n",
    "    'rf__max_depth': [5, 8, 15, 25, 30],\n",
    "    'rf__min_samples_split': [8, 10, 12],\n",
    "    'rf__min_samples_leaf': [3, 4, 5] \n",
    "}\n",
    "\n",
    "\n",
    "# Instantiate the grid search model\n",
    "grid_search = GridSearchCV(estimator = pipeline, param_grid = param_grid, \n",
    "                          cv = 5, n_jobs = -1, verbose = 3)\n",
    "# Fit the grid search to the data\n",
    "grid_search.fit(X_train, y_train)\n",
    "\n",
    "# best parameters\n",
    "grid_search.best_params_"
   ]
  },
  {
   "cell_type": "code",
   "execution_count": 11,
   "metadata": {},
   "outputs": [],
   "source": [
    "y_pred = grid_search.predict(X_test)\n",
    "\n",
    "# RMSLE (Root Mean Squared Logarithmic Error) function\n",
    "def rmsle(y_test, y_pred):\n",
    "    return np.sqrt(metrics.mean_squared_log_error(y_test, y_pred))\n",
    "\n",
    "# Create function to evaluate our model\n",
    "def show_scores(model):\n",
    "    train_preds = model.predict(X_train)\n",
    "    test_preds = model.predict(X_test)\n",
    "    scores = {\"Training MAE\": metrics.mean_absolute_error(y_train, train_preds),\n",
    "              \"Valid MAE\": metrics.mean_absolute_error(y_test, test_preds),\n",
    "              \"Training RMSLE\": rmsle(y_train, train_preds),\n",
    "              \"Valid RMSLE\": rmsle(y_test, test_preds)}\n",
    "    return scores"
   ]
  },
  {
   "cell_type": "code",
   "execution_count": 12,
   "metadata": {},
   "outputs": [
    {
     "data": {
      "text/plain": [
       "{'Training MAE': 1569408.690718311,\n",
       " 'Valid MAE': 3626434.890206261,\n",
       " 'Training RMSLE': 0.351825305462326,\n",
       " 'Valid RMSLE': 0.5590356246551744}"
      ]
     },
     "execution_count": 12,
     "metadata": {},
     "output_type": "execute_result"
    }
   ],
   "source": [
    "show_scores(grid_search)"
   ]
  },
  {
   "cell_type": "markdown",
   "metadata": {},
   "source": [
    "The mean absolute percentage error (MAPE) is a statistical measure of how accurate a forecast system is. It measures this accuracy as a percentage."
   ]
  },
  {
   "cell_type": "code",
   "execution_count": 13,
   "metadata": {},
   "outputs": [],
   "source": [
    "# Function to evaluate model's MAPE\n",
    "def evaluate(model, X_test, y_test):\n",
    "    errors = abs(y_pred - y_test)\n",
    "    mape = 100 * np.mean(errors / y_test)\n",
    "    print('Model Performance')\n",
    "    print('Mean Absolute Percentage Error = {:0.2f}%.'.format(mape))\n",
    "    \n",
    "    return mape"
   ]
  },
  {
   "cell_type": "code",
   "execution_count": 14,
   "metadata": {},
   "outputs": [
    {
     "name": "stdout",
     "output_type": "stream",
     "text": [
      "Model Performance\n",
      "Mean Absolute Percentage Error = 53.70%.\n"
     ]
    }
   ],
   "source": [
    "best_grid = grid_search.best_estimator_\n",
    "grid_accuracy = evaluate(best_grid, X_test, y_test)"
   ]
  },
  {
   "cell_type": "markdown",
   "metadata": {},
   "source": [
    "## Model Predictions"
   ]
  },
  {
   "cell_type": "code",
   "execution_count": 15,
   "metadata": {},
   "outputs": [
    {
     "data": {
      "text/html": [
       "<div>\n",
       "<style scoped>\n",
       "    .dataframe tbody tr th:only-of-type {\n",
       "        vertical-align: middle;\n",
       "    }\n",
       "\n",
       "    .dataframe tbody tr th {\n",
       "        vertical-align: top;\n",
       "    }\n",
       "\n",
       "    .dataframe thead th {\n",
       "        text-align: right;\n",
       "    }\n",
       "</style>\n",
       "<table border=\"1\" class=\"dataframe\">\n",
       "  <thead>\n",
       "    <tr style=\"text-align: right;\">\n",
       "      <th></th>\n",
       "      <th>Actual</th>\n",
       "      <th>Predicted</th>\n",
       "    </tr>\n",
       "  </thead>\n",
       "  <tbody>\n",
       "    <tr>\n",
       "      <td>0</td>\n",
       "      <td>1662060.0</td>\n",
       "      <td>4.268262e+06</td>\n",
       "    </tr>\n",
       "    <tr>\n",
       "      <td>1</td>\n",
       "      <td>12000835.0</td>\n",
       "      <td>1.466692e+07</td>\n",
       "    </tr>\n",
       "    <tr>\n",
       "      <td>2</td>\n",
       "      <td>31957493.0</td>\n",
       "      <td>5.768466e+06</td>\n",
       "    </tr>\n",
       "    <tr>\n",
       "      <td>3</td>\n",
       "      <td>17000450.0</td>\n",
       "      <td>1.595685e+07</td>\n",
       "    </tr>\n",
       "    <tr>\n",
       "      <td>4</td>\n",
       "      <td>8000000.0</td>\n",
       "      <td>1.665903e+07</td>\n",
       "    </tr>\n",
       "    <tr>\n",
       "      <td>...</td>\n",
       "      <td>...</td>\n",
       "      <td>...</td>\n",
       "    </tr>\n",
       "    <tr>\n",
       "      <td>76</td>\n",
       "      <td>33333333.0</td>\n",
       "      <td>2.383343e+07</td>\n",
       "    </tr>\n",
       "    <tr>\n",
       "      <td>77</td>\n",
       "      <td>14545000.0</td>\n",
       "      <td>1.150421e+07</td>\n",
       "    </tr>\n",
       "    <tr>\n",
       "      <td>78</td>\n",
       "      <td>1532398.0</td>\n",
       "      <td>3.501691e+06</td>\n",
       "    </tr>\n",
       "    <tr>\n",
       "      <td>79</td>\n",
       "      <td>1270792.0</td>\n",
       "      <td>3.876008e+06</td>\n",
       "    </tr>\n",
       "    <tr>\n",
       "      <td>80</td>\n",
       "      <td>1399637.0</td>\n",
       "      <td>1.532839e+06</td>\n",
       "    </tr>\n",
       "  </tbody>\n",
       "</table>\n",
       "<p>81 rows × 2 columns</p>\n",
       "</div>"
      ],
      "text/plain": [
       "        Actual     Predicted\n",
       "0    1662060.0  4.268262e+06\n",
       "1   12000835.0  1.466692e+07\n",
       "2   31957493.0  5.768466e+06\n",
       "3   17000450.0  1.595685e+07\n",
       "4    8000000.0  1.665903e+07\n",
       "..         ...           ...\n",
       "76  33333333.0  2.383343e+07\n",
       "77  14545000.0  1.150421e+07\n",
       "78   1532398.0  3.501691e+06\n",
       "79   1270792.0  3.876008e+06\n",
       "80   1399637.0  1.532839e+06\n",
       "\n",
       "[81 rows x 2 columns]"
      ]
     },
     "execution_count": 15,
     "metadata": {},
     "output_type": "execute_result"
    }
   ],
   "source": [
    "df = pd.DataFrame({'Actual': y_test, 'Predicted': y_pred})\n",
    "df"
   ]
  },
  {
   "cell_type": "code",
   "execution_count": 16,
   "metadata": {},
   "outputs": [
    {
     "data": {
      "image/png": "[encoded data removed]",
      "text/plain": [
       "<Figure size 432x288 with 1 Axes>"
      ]
     },
     "metadata": {},
     "output_type": "display_data"
    }
   ],
   "source": [
    "import seaborn as sns\n",
    "\n",
    "sns.set(color_codes=True)\n",
    "ax = sns.regplot(x=\"Actual\", y=\"Predicted\", data=df)"
   ]
  },
  {
   "cell_type": "markdown",
   "metadata": {},
   "source": [
    "This linear line across the plot is the best available fit for the trend of the Predicted Average Salary (Avg. Salary) with respect to the Actual Avg. Salary. The data points far away from the line are the outliers.\n",
    "Looking at this plot, we may say that if the actual average salary is around \\\\$20,000,000, then the predicted average salary is around $15,000,000."
   ]
  },
  {
   "cell_type": "markdown",
   "metadata": {},
   "source": [
    "## Feature Importance\n",
    "\n",
    "Feature importance seeks to figure out which different attributes of the data were most important when it comes to predicting the target variable (Avg. Salary)."
   ]
  },
  {
   "cell_type": "code",
   "execution_count": 49,
   "metadata": {},
   "outputs": [
    {
     "data": {
      "text/plain": [
       "array([0.07140504, 0.02976298, 0.00335454, 0.00580926, 0.00331897,\n",
       "       0.04006459, 0.00967999, 0.00410911, 0.00383307, 0.00608129,\n",
       "       0.00345778, 0.00462063, 0.48562433, 0.00311879, 0.00808822,\n",
       "       0.01280589, 0.0120529 , 0.00387846, 0.00487444, 0.01507897,\n",
       "       0.01466595, 0.04742701, 0.04602998, 0.00444682, 0.00959561,\n",
       "       0.00593813, 0.00508325, 0.03160776, 0.00763828, 0.01750695,\n",
       "       0.07656171, 0.00247931])"
      ]
     },
     "execution_count": 49,
     "metadata": {},
     "output_type": "execute_result"
    }
   ],
   "source": [
    "# Showing feature importance\n",
    "model = grid_search.best_estimator_.named_steps['rf'].feature_importances_\n",
    "model"
   ]
  },
  {
   "cell_type": "code",
   "execution_count": 50,
   "metadata": {},
   "outputs": [
    {
     "name": "stdout",
     "output_type": "stream",
     "text": [
      "Feature: 0, Score: 0.07141\n",
      "Feature: 1, Score: 0.02976\n",
      "Feature: 2, Score: 0.00335\n",
      "Feature: 3, Score: 0.00581\n",
      "Feature: 4, Score: 0.00332\n",
      "Feature: 5, Score: 0.04006\n",
      "Feature: 6, Score: 0.00968\n",
      "Feature: 7, Score: 0.00411\n",
      "Feature: 8, Score: 0.00383\n",
      "Feature: 9, Score: 0.00608\n",
      "Feature: 10, Score: 0.00346\n",
      "Feature: 11, Score: 0.00462\n",
      "Feature: 12, Score: 0.48562\n",
      "Feature: 13, Score: 0.00312\n",
      "Feature: 14, Score: 0.00809\n",
      "Feature: 15, Score: 0.01281\n",
      "Feature: 16, Score: 0.01205\n",
      "Feature: 17, Score: 0.00388\n",
      "Feature: 18, Score: 0.00487\n",
      "Feature: 19, Score: 0.01508\n",
      "Feature: 20, Score: 0.01467\n",
      "Feature: 21, Score: 0.04743\n",
      "Feature: 22, Score: 0.04603\n",
      "Feature: 23, Score: 0.00445\n",
      "Feature: 24, Score: 0.00960\n",
      "Feature: 25, Score: 0.00594\n",
      "Feature: 26, Score: 0.00508\n",
      "Feature: 27, Score: 0.03161\n",
      "Feature: 28, Score: 0.00764\n",
      "Feature: 29, Score: 0.01751\n",
      "Feature: 30, Score: 0.07656\n",
      "Feature: 31, Score: 0.00248\n"
     ]
    },
    {
     "data": {
      "image/png": "[encoded data removed]",
      "text/plain": [
       "<Figure size 432x288 with 1 Axes>"
      ]
     },
     "metadata": {},
     "output_type": "display_data"
    }
   ],
   "source": [
    "import matplotlib.pyplot as plt\n",
    "\n",
    "# Display feature importance and display plot \n",
    "# Get importance\n",
    "importance = model\n",
    "\n",
    "# summarize feature importance\n",
    "for i,v in enumerate(importance):\n",
    "    print('Feature: %0d, Score: %.5f' % (i,v))\n",
    "    \n",
    "# plot feature importance\n",
    "plt.bar([x for x in range(len(importance))], importance)\n",
    "plt.show()"
   ]
  },
  {
   "cell_type": "code",
   "execution_count": 52,
   "metadata": {},
   "outputs": [
    {
     "data": {
      "text/html": [
       "<div>\n",
       "<style scoped>\n",
       "    .dataframe tbody tr th:only-of-type {\n",
       "        vertical-align: middle;\n",
       "    }\n",
       "\n",
       "    .dataframe tbody tr th {\n",
       "        vertical-align: top;\n",
       "    }\n",
       "\n",
       "    .dataframe thead th {\n",
       "        text-align: right;\n",
       "    }\n",
       "</style>\n",
       "<table border=\"1\" class=\"dataframe\">\n",
       "  <thead>\n",
       "    <tr style=\"text-align: right;\">\n",
       "      <th></th>\n",
       "      <th>Features</th>\n",
       "      <th>Score</th>\n",
       "    </tr>\n",
       "  </thead>\n",
       "  <tbody>\n",
       "    <tr>\n",
       "      <td>12</td>\n",
       "      <td>FT%</td>\n",
       "      <td>0.485624</td>\n",
       "    </tr>\n",
       "    <tr>\n",
       "      <td>30</td>\n",
       "      <td>PTS</td>\n",
       "      <td>0.076562</td>\n",
       "    </tr>\n",
       "    <tr>\n",
       "      <td>0</td>\n",
       "      <td>Age</td>\n",
       "      <td>0.071405</td>\n",
       "    </tr>\n",
       "    <tr>\n",
       "      <td>21</td>\n",
       "      <td>2PA</td>\n",
       "      <td>0.047427</td>\n",
       "    </tr>\n",
       "    <tr>\n",
       "      <td>22</td>\n",
       "      <td>FT</td>\n",
       "      <td>0.046030</td>\n",
       "    </tr>\n",
       "    <tr>\n",
       "      <td>5</td>\n",
       "      <td>Year</td>\n",
       "      <td>0.040065</td>\n",
       "    </tr>\n",
       "    <tr>\n",
       "      <td>27</td>\n",
       "      <td>BLK</td>\n",
       "      <td>0.031608</td>\n",
       "    </tr>\n",
       "    <tr>\n",
       "      <td>1</td>\n",
       "      <td>Yrs</td>\n",
       "      <td>0.029763</td>\n",
       "    </tr>\n",
       "    <tr>\n",
       "      <td>29</td>\n",
       "      <td>PF</td>\n",
       "      <td>0.017507</td>\n",
       "    </tr>\n",
       "    <tr>\n",
       "      <td>19</td>\n",
       "      <td>3PA</td>\n",
       "      <td>0.015079</td>\n",
       "    </tr>\n",
       "    <tr>\n",
       "      <td>20</td>\n",
       "      <td>2P</td>\n",
       "      <td>0.014666</td>\n",
       "    </tr>\n",
       "    <tr>\n",
       "      <td>15</td>\n",
       "      <td>DRB</td>\n",
       "      <td>0.012806</td>\n",
       "    </tr>\n",
       "    <tr>\n",
       "      <td>16</td>\n",
       "      <td>FG</td>\n",
       "      <td>0.012053</td>\n",
       "    </tr>\n",
       "    <tr>\n",
       "      <td>6</td>\n",
       "      <td>Contract Ends</td>\n",
       "      <td>0.009680</td>\n",
       "    </tr>\n",
       "    <tr>\n",
       "      <td>24</td>\n",
       "      <td>TRB</td>\n",
       "      <td>0.009596</td>\n",
       "    </tr>\n",
       "    <tr>\n",
       "      <td>14</td>\n",
       "      <td>ORB</td>\n",
       "      <td>0.008088</td>\n",
       "    </tr>\n",
       "    <tr>\n",
       "      <td>28</td>\n",
       "      <td>TOV</td>\n",
       "      <td>0.007638</td>\n",
       "    </tr>\n",
       "    <tr>\n",
       "      <td>9</td>\n",
       "      <td>3P%</td>\n",
       "      <td>0.006081</td>\n",
       "    </tr>\n",
       "    <tr>\n",
       "      <td>25</td>\n",
       "      <td>AST</td>\n",
       "      <td>0.005938</td>\n",
       "    </tr>\n",
       "    <tr>\n",
       "      <td>3</td>\n",
       "      <td>Avg. Salary</td>\n",
       "      <td>0.005809</td>\n",
       "    </tr>\n",
       "    <tr>\n",
       "      <td>26</td>\n",
       "      <td>STL</td>\n",
       "      <td>0.005083</td>\n",
       "    </tr>\n",
       "    <tr>\n",
       "      <td>18</td>\n",
       "      <td>3P</td>\n",
       "      <td>0.004874</td>\n",
       "    </tr>\n",
       "    <tr>\n",
       "      <td>11</td>\n",
       "      <td>eFG%</td>\n",
       "      <td>0.004621</td>\n",
       "    </tr>\n",
       "    <tr>\n",
       "      <td>23</td>\n",
       "      <td>FTA</td>\n",
       "      <td>0.004447</td>\n",
       "    </tr>\n",
       "    <tr>\n",
       "      <td>7</td>\n",
       "      <td>G</td>\n",
       "      <td>0.004109</td>\n",
       "    </tr>\n",
       "    <tr>\n",
       "      <td>17</td>\n",
       "      <td>FGA</td>\n",
       "      <td>0.003878</td>\n",
       "    </tr>\n",
       "    <tr>\n",
       "      <td>8</td>\n",
       "      <td>FG%</td>\n",
       "      <td>0.003833</td>\n",
       "    </tr>\n",
       "    <tr>\n",
       "      <td>10</td>\n",
       "      <td>2P%</td>\n",
       "      <td>0.003458</td>\n",
       "    </tr>\n",
       "    <tr>\n",
       "      <td>2</td>\n",
       "      <td>% GTD</td>\n",
       "      <td>0.003355</td>\n",
       "    </tr>\n",
       "    <tr>\n",
       "      <td>4</td>\n",
       "      <td>Free Agent</td>\n",
       "      <td>0.003319</td>\n",
       "    </tr>\n",
       "    <tr>\n",
       "      <td>13</td>\n",
       "      <td>MP</td>\n",
       "      <td>0.003119</td>\n",
       "    </tr>\n",
       "    <tr>\n",
       "      <td>31</td>\n",
       "      <td>PER</td>\n",
       "      <td>0.002479</td>\n",
       "    </tr>\n",
       "  </tbody>\n",
       "</table>\n",
       "</div>"
      ],
      "text/plain": [
       "         Features     Score\n",
       "12            FT%  0.485624\n",
       "30            PTS  0.076562\n",
       "0             Age  0.071405\n",
       "21            2PA  0.047427\n",
       "22             FT  0.046030\n",
       "5            Year  0.040065\n",
       "27            BLK  0.031608\n",
       "1             Yrs  0.029763\n",
       "29             PF  0.017507\n",
       "19            3PA  0.015079\n",
       "20             2P  0.014666\n",
       "15            DRB  0.012806\n",
       "16             FG  0.012053\n",
       "6   Contract Ends  0.009680\n",
       "24            TRB  0.009596\n",
       "14            ORB  0.008088\n",
       "28            TOV  0.007638\n",
       "9             3P%  0.006081\n",
       "25            AST  0.005938\n",
       "3     Avg. Salary  0.005809\n",
       "26            STL  0.005083\n",
       "18             3P  0.004874\n",
       "11           eFG%  0.004621\n",
       "23            FTA  0.004447\n",
       "7               G  0.004109\n",
       "17            FGA  0.003878\n",
       "8             FG%  0.003833\n",
       "10            2P%  0.003458\n",
       "2           % GTD  0.003355\n",
       "4      Free Agent  0.003319\n",
       "13             MP  0.003119\n",
       "31            PER  0.002479"
      ]
     },
     "execution_count": 52,
     "metadata": {},
     "output_type": "execute_result"
    }
   ],
   "source": [
    "zipped = list(zip(df_final.columns, model))\n",
    "\n",
    "# Display features importance in descending order\n",
    "df1 = pd.DataFrame(zipped, columns=['Features', 'Score']).sort_values('Score', ascending=False)\n",
    "df1\n"
   ]
  },
  {
   "cell_type": "markdown",
   "metadata": {},
   "source": [
    "Free throw percentage (FT%) was the most important feature when it came to predicting Average Salary (Avg. Salary). Followed by points (PTS) and age (AGE)."
   ]
  }
 ],
 "metadata": {
  "kernelspec": {
   "display_name": "Python 3",
   "language": "python",
   "name": "python3"
  },
  "language_info": {
   "codemirror_mode": {
    "name": "ipython",
    "version": 3
   },
   "file_extension": ".py",
   "mimetype": "text/x-python",
   "name": "python",
   "nbconvert_exporter": "python",
   "pygments_lexer": "ipython3",
   "version": "3.7.4"
  }
 },
 "nbformat": 4,
 "nbformat_minor": 2
}
