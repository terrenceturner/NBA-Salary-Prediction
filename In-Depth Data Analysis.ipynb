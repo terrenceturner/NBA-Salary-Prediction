{
 "cells": [
  {
   "cell_type": "markdown",
   "metadata": {},
   "source": [
    "## Processing Data"
   ]
  },
  {
   "cell_type": "code",
   "execution_count": 1,
   "metadata": {},
   "outputs": [],
   "source": [
    "import numpy as np\n",
    "import pandas as pd\n",
    "import matplotlib.pyplot as plt\n",
    "%matplotlib inline\n",
    "import sklearn\n",
    "\n",
    "df_final = pd.read_pickle('NBA.pkl')"
   ]
  },
  {
   "cell_type": "code",
   "execution_count": 2,
   "metadata": {},
   "outputs": [
    {
     "data": {
      "text/html": [
       "<div>\n",
       "<style scoped>\n",
       "    .dataframe tbody tr th:only-of-type {\n",
       "        vertical-align: middle;\n",
       "    }\n",
       "\n",
       "    .dataframe tbody tr th {\n",
       "        vertical-align: top;\n",
       "    }\n",
       "\n",
       "    .dataframe thead th {\n",
       "        text-align: right;\n",
       "    }\n",
       "</style>\n",
       "<table border=\"1\" class=\"dataframe\">\n",
       "  <thead>\n",
       "    <tr style=\"text-align: right;\">\n",
       "      <th></th>\n",
       "      <th>Player</th>\n",
       "      <th>Pos_x</th>\n",
       "      <th>Team_x</th>\n",
       "      <th>Age_x</th>\n",
       "      <th>Yrs</th>\n",
       "      <th>Dollars</th>\n",
       "      <th>Guaranteed</th>\n",
       "      <th>% GTD</th>\n",
       "      <th>Avg. Salary</th>\n",
       "      <th>Free Agent</th>\n",
       "      <th>...</th>\n",
       "      <th>TRB</th>\n",
       "      <th>AST</th>\n",
       "      <th>STL</th>\n",
       "      <th>BLK</th>\n",
       "      <th>TOV</th>\n",
       "      <th>PF</th>\n",
       "      <th>PTS</th>\n",
       "      <th>PER</th>\n",
       "      <th>Team_y</th>\n",
       "      <th>GS</th>\n",
       "    </tr>\n",
       "  </thead>\n",
       "  <tbody>\n",
       "    <tr>\n",
       "      <td>9</td>\n",
       "      <td>James Harden</td>\n",
       "      <td>SG</td>\n",
       "      <td>HOU</td>\n",
       "      <td>30.0</td>\n",
       "      <td>4.0</td>\n",
       "      <td>171131520.0</td>\n",
       "      <td>171131520.0</td>\n",
       "      <td>100.0</td>\n",
       "      <td>42782880.0</td>\n",
       "      <td>2023.0</td>\n",
       "      <td>...</td>\n",
       "      <td>6.400000</td>\n",
       "      <td>7.400000</td>\n",
       "      <td>1.700000</td>\n",
       "      <td>0.900000</td>\n",
       "      <td>4.500000</td>\n",
       "      <td>3.400000</td>\n",
       "      <td>34.400000</td>\n",
       "      <td>28.4</td>\n",
       "      <td>HOU</td>\n",
       "      <td>61.0</td>\n",
       "    </tr>\n",
       "    <tr>\n",
       "      <td>0</td>\n",
       "      <td>Russell Westbrook</td>\n",
       "      <td>PG</td>\n",
       "      <td>HOUSigned w/OKC</td>\n",
       "      <td>31.0</td>\n",
       "      <td>5.0</td>\n",
       "      <td>206794070.0</td>\n",
       "      <td>206794070.0</td>\n",
       "      <td>100.0</td>\n",
       "      <td>41358814.0</td>\n",
       "      <td>2023.0</td>\n",
       "      <td>...</td>\n",
       "      <td>11.054795</td>\n",
       "      <td>10.739726</td>\n",
       "      <td>1.945205</td>\n",
       "      <td>0.452055</td>\n",
       "      <td>4.452055</td>\n",
       "      <td>3.356164</td>\n",
       "      <td>22.945205</td>\n",
       "      <td>21.1</td>\n",
       "      <td>NaN</td>\n",
       "      <td>NaN</td>\n",
       "    </tr>\n",
       "    <tr>\n",
       "      <td>16</td>\n",
       "      <td>Devin Booker</td>\n",
       "      <td>SG</td>\n",
       "      <td>PHX</td>\n",
       "      <td>23.0</td>\n",
       "      <td>5.0</td>\n",
       "      <td>158253000.0</td>\n",
       "      <td>158253000.0</td>\n",
       "      <td>100.0</td>\n",
       "      <td>31650600.0</td>\n",
       "      <td>2024.0</td>\n",
       "      <td>...</td>\n",
       "      <td>4.200000</td>\n",
       "      <td>6.600000</td>\n",
       "      <td>0.700000</td>\n",
       "      <td>0.300000</td>\n",
       "      <td>3.900000</td>\n",
       "      <td>3.000000</td>\n",
       "      <td>26.100000</td>\n",
       "      <td>19.8</td>\n",
       "      <td>PHO</td>\n",
       "      <td>62.0</td>\n",
       "    </tr>\n",
       "    <tr>\n",
       "      <td>183</td>\n",
       "      <td>Trae Young</td>\n",
       "      <td>PG</td>\n",
       "      <td>ATL</td>\n",
       "      <td>21.0</td>\n",
       "      <td>3.0</td>\n",
       "      <td>18201240.0</td>\n",
       "      <td>18201240.0</td>\n",
       "      <td>100.0</td>\n",
       "      <td>6067080.0</td>\n",
       "      <td>2022.0</td>\n",
       "      <td>...</td>\n",
       "      <td>3.716049</td>\n",
       "      <td>8.061728</td>\n",
       "      <td>0.888889</td>\n",
       "      <td>0.185185</td>\n",
       "      <td>3.802469</td>\n",
       "      <td>1.728395</td>\n",
       "      <td>19.123457</td>\n",
       "      <td>17.0</td>\n",
       "      <td>NaN</td>\n",
       "      <td>NaN</td>\n",
       "    </tr>\n",
       "    <tr>\n",
       "      <td>18</td>\n",
       "      <td>LeBron James</td>\n",
       "      <td>SF</td>\n",
       "      <td>LAL</td>\n",
       "      <td>35.0</td>\n",
       "      <td>4.0</td>\n",
       "      <td>153312846.0</td>\n",
       "      <td>153312846.0</td>\n",
       "      <td>100.0</td>\n",
       "      <td>38328212.0</td>\n",
       "      <td>2022.0</td>\n",
       "      <td>...</td>\n",
       "      <td>8.454545</td>\n",
       "      <td>8.254545</td>\n",
       "      <td>1.309091</td>\n",
       "      <td>0.600000</td>\n",
       "      <td>3.581818</td>\n",
       "      <td>1.709091</td>\n",
       "      <td>27.363636</td>\n",
       "      <td>25.6</td>\n",
       "      <td>NaN</td>\n",
       "      <td>NaN</td>\n",
       "    </tr>\n",
       "  </tbody>\n",
       "</table>\n",
       "<p>5 rows × 41 columns</p>\n",
       "</div>"
      ],
      "text/plain": [
       "                Player Pos_x           Team_x  Age_x  Yrs      Dollars  \\\n",
       "9         James Harden    SG              HOU   30.0  4.0  171131520.0   \n",
       "0    Russell Westbrook    PG  HOUSigned w/OKC   31.0  5.0  206794070.0   \n",
       "16        Devin Booker    SG              PHX   23.0  5.0  158253000.0   \n",
       "183         Trae Young    PG              ATL   21.0  3.0   18201240.0   \n",
       "18        LeBron James    SF              LAL   35.0  4.0  153312846.0   \n",
       "\n",
       "      Guaranteed  % GTD  Avg. Salary  Free Agent  ...        TRB        AST  \\\n",
       "9    171131520.0  100.0   42782880.0      2023.0  ...   6.400000   7.400000   \n",
       "0    206794070.0  100.0   41358814.0      2023.0  ...  11.054795  10.739726   \n",
       "16   158253000.0  100.0   31650600.0      2024.0  ...   4.200000   6.600000   \n",
       "183   18201240.0  100.0    6067080.0      2022.0  ...   3.716049   8.061728   \n",
       "18   153312846.0  100.0   38328212.0      2022.0  ...   8.454545   8.254545   \n",
       "\n",
       "          STL       BLK       TOV        PF        PTS   PER  Team_y    GS  \n",
       "9    1.700000  0.900000  4.500000  3.400000  34.400000  28.4     HOU  61.0  \n",
       "0    1.945205  0.452055  4.452055  3.356164  22.945205  21.1     NaN   NaN  \n",
       "16   0.700000  0.300000  3.900000  3.000000  26.100000  19.8     PHO  62.0  \n",
       "183  0.888889  0.185185  3.802469  1.728395  19.123457  17.0     NaN   NaN  \n",
       "18   1.309091  0.600000  3.581818  1.709091  27.363636  25.6     NaN   NaN  \n",
       "\n",
       "[5 rows x 41 columns]"
      ]
     },
     "execution_count": 2,
     "metadata": {},
     "output_type": "execute_result"
    }
   ],
   "source": [
    "df_final.head()"
   ]
  },
  {
   "cell_type": "code",
   "execution_count": 3,
   "metadata": {},
   "outputs": [
    {
     "data": {
      "text/plain": [
       "Index(['Player', 'Pos_x', 'Team_x', 'Age_x', 'Yrs', 'Dollars', 'Guaranteed',\n",
       "       '% GTD', 'Avg. Salary', 'Free Agent', 'Year', 'Contract Ends', 'Pos_y',\n",
       "       'Age_y', 'G', 'FG%', '3P%', '2P%', 'eFG%', 'FT%', 'MP', 'ORB', 'DRB',\n",
       "       'FG', 'FGA', '3P', '3PA', '2P', '2PA', 'FT', 'FTA', 'TRB', 'AST', 'STL',\n",
       "       'BLK', 'TOV', 'PF', 'PTS', 'PER', 'Team_y', 'GS'],\n",
       "      dtype='object')"
      ]
     },
     "execution_count": 3,
     "metadata": {},
     "output_type": "execute_result"
    }
   ],
   "source": [
    "df_final.columns"
   ]
  },
  {
   "cell_type": "code",
   "execution_count": 5,
   "metadata": {},
   "outputs": [
    {
     "data": {
      "text/plain": [
       "Index(['Age', 'Yrs', 'Dollars', 'Guaranteed', '% GTD', 'Avg. Salary',\n",
       "       'Free Agent', 'Year', 'Contract Ends', 'G', 'FG%', '3P%', '2P%', 'eFG%',\n",
       "       'FT%', 'MP', 'ORB', 'DRB', 'FG', 'FGA', '3P', '3PA', '2P', '2PA', 'FT',\n",
       "       'FTA', 'TRB', 'AST', 'STL', 'BLK', 'TOV', 'PF', 'PTS', 'PER', 'GS'],\n",
       "      dtype='object')"
      ]
     },
     "execution_count": 5,
     "metadata": {},
     "output_type": "execute_result"
    }
   ],
   "source": [
    "#Drop Unnecessary Categorical columns\n",
    "df_final = df_final.drop(columns=['Player', 'Pos_x', 'Team_x', 'Pos_y', 'Age_y', 'Team_y'])\n",
    "\n",
    "#Rename Age column\n",
    "df_final.rename(columns={'Age_x':'Age'}, inplace=True)\n",
    "\n",
    "df_final.columns"
   ]
  },
  {
   "cell_type": "code",
   "execution_count": 6,
   "metadata": {},
   "outputs": [
    {
     "data": {
      "text/plain": [
       "Age              float64\n",
       "Yrs              float64\n",
       "Dollars          float64\n",
       "Guaranteed       float64\n",
       "% GTD            float64\n",
       "Avg. Salary      float64\n",
       "Free Agent       float64\n",
       "Year               int64\n",
       "Contract Ends    float64\n",
       "G                float64\n",
       "FG%              float64\n",
       "3P%              float64\n",
       "2P%              float64\n",
       "eFG%             float64\n",
       "FT%              float64\n",
       "MP               float64\n",
       "ORB              float64\n",
       "DRB              float64\n",
       "FG               float64\n",
       "FGA              float64\n",
       "3P               float64\n",
       "3PA              float64\n",
       "2P               float64\n",
       "2PA              float64\n",
       "FT               float64\n",
       "FTA              float64\n",
       "TRB              float64\n",
       "AST              float64\n",
       "STL              float64\n",
       "BLK              float64\n",
       "TOV              float64\n",
       "PF               float64\n",
       "PTS              float64\n",
       "PER              float64\n",
       "GS               float64\n",
       "dtype: object"
      ]
     },
     "execution_count": 6,
     "metadata": {},
     "output_type": "execute_result"
    }
   ],
   "source": [
    "#Check to make sure all columns are numeric\n",
    "df_final.dtypes"
   ]
  },
  {
   "cell_type": "code",
   "execution_count": 7,
   "metadata": {},
   "outputs": [
    {
     "name": "stdout",
     "output_type": "stream",
     "text": [
      "<class 'pandas.core.frame.DataFrame'>\n",
      "Int64Index: 405 entries, 9 to 412\n",
      "Data columns (total 35 columns):\n",
      "Age              405 non-null float64\n",
      "Yrs              405 non-null float64\n",
      "Dollars          405 non-null float64\n",
      "Guaranteed       405 non-null float64\n",
      "% GTD            405 non-null float64\n",
      "Avg. Salary      405 non-null float64\n",
      "Free Agent       405 non-null float64\n",
      "Year             405 non-null int64\n",
      "Contract Ends    405 non-null float64\n",
      "G                391 non-null float64\n",
      "FG%              391 non-null float64\n",
      "3P%              391 non-null float64\n",
      "2P%              391 non-null float64\n",
      "eFG%             391 non-null float64\n",
      "FT%              391 non-null float64\n",
      "MP               391 non-null float64\n",
      "ORB              391 non-null float64\n",
      "DRB              391 non-null float64\n",
      "FG               391 non-null float64\n",
      "FGA              391 non-null float64\n",
      "3P               391 non-null float64\n",
      "3PA              391 non-null float64\n",
      "2P               391 non-null float64\n",
      "2PA              391 non-null float64\n",
      "FT               391 non-null float64\n",
      "FTA              391 non-null float64\n",
      "TRB              391 non-null float64\n",
      "AST              391 non-null float64\n",
      "STL              391 non-null float64\n",
      "BLK              391 non-null float64\n",
      "TOV              391 non-null float64\n",
      "PF               391 non-null float64\n",
      "PTS              391 non-null float64\n",
      "PER              391 non-null float64\n",
      "GS               180 non-null float64\n",
      "dtypes: float64(34), int64(1)\n",
      "memory usage: 113.9 KB\n"
     ]
    }
   ],
   "source": [
    "df_final.info()"
   ]
  },
  {
   "cell_type": "code",
   "execution_count": 8,
   "metadata": {},
   "outputs": [],
   "source": [
    "X = df_final.drop('Avg. Salary', axis=1).values\n",
    "y = df_final['Avg. Salary'].values"
   ]
  },
  {
   "cell_type": "markdown",
   "metadata": {},
   "source": [
    "## Imputing missing data in a ML Pipeline"
   ]
  },
  {
   "cell_type": "code",
   "execution_count": 10,
   "metadata": {},
   "outputs": [
    {
     "name": "stdout",
     "output_type": "stream",
     "text": [
      "Mean Absolute Error: 874521.7518518517\n",
      "Mean Squared Error: 2780940919468.97\n",
      "Root Mean Squared Error: 1667615.339180163\n"
     ]
    },
    {
     "name": "stderr",
     "output_type": "stream",
     "text": [
      "/opt/anaconda3/lib/python3.7/site-packages/sklearn/ensemble/forest.py:245: FutureWarning: The default value of n_estimators will change from 10 in version 0.20 to 100 in 0.22.\n",
      "  \"10 in version 0.20 to 100 in 0.22.\", FutureWarning)\n"
     ]
    }
   ],
   "source": [
    "from sklearn.linear_model import ElasticNet\n",
    "from sklearn.model_selection import GridSearchCV\n",
    "from sklearn.model_selection import cross_val_score\n",
    "from sklearn.preprocessing import StandardScaler\n",
    "from sklearn.pipeline import Pipeline\n",
    "from sklearn.model_selection import train_test_split\n",
    "from sklearn.metrics import mean_squared_error\n",
    "from sklearn.ensemble import RandomForestRegressor\n",
    "from sklearn import metrics\n",
    "from sklearn.impute import SimpleImputer\n",
    "\n",
    "# Setup the pipeline steps: steps\n",
    "steps = [('imputation', SimpleImputer(missing_values=np.nan, strategy='mean')),\n",
    "         ('scaler', StandardScaler()),\n",
    "         ('rf', RandomForestRegressor())]\n",
    "\n",
    "# Create the pipeline: pipeline \n",
    "pipeline = Pipeline(steps)\n",
    "\n",
    "# Create train and test sets\n",
    "X_train, X_test, y_train, y_test = train_test_split(X, y, test_size=0.2, random_state=42)\n",
    "\n",
    "# Fit to the training set\n",
    "pipeline.fit(X_train, y_train)\n",
    "\n",
    "# Predict on the test set and compute metrics\n",
    "y_pred = pipeline.predict(X_test)\n",
    "mse = mean_squared_error(y_test, y_pred)\n",
    "\n",
    "print('Mean Absolute Error:', metrics.mean_absolute_error(y_test, y_pred))\n",
    "print('Mean Squared Error:', metrics.mean_squared_error(y_test, y_pred))\n",
    "print('Root Mean Squared Error:', np.sqrt(metrics.mean_squared_error(y_test, y_pred)))"
   ]
  },
  {
   "cell_type": "code",
   "execution_count": 13,
   "metadata": {},
   "outputs": [],
   "source": [
    "def evaluate(model, X_test, y_test):\n",
    "    predictions = model.predict(X_test)\n",
    "    errors = abs(y_pred - y_test)\n",
    "    mape = 100 * np.mean(errors / y_test)\n",
    "    #mean absolute percentage error (MAPE)\n",
    "    accuracy = 100 - mape\n",
    "    print('Model Performance')\n",
    "    print('Average Error: {:0.4f} degrees.'.format(np.mean(errors)))\n",
    "    print('Accuracy = {:0.2f}%.'.format(accuracy))\n",
    "    \n",
    "    return accuracy"
   ]
  },
  {
   "cell_type": "code",
   "execution_count": 14,
   "metadata": {},
   "outputs": [
    {
     "name": "stdout",
     "output_type": "stream",
     "text": [
      "Model Performance\n",
      "Average Error: 874521.7519 degrees.\n",
      "Accuracy = 89.97%.\n"
     ]
    }
   ],
   "source": [
    "base_accuracy = evaluate(pipeline, X_test, y_test)"
   ]
  },
  {
   "cell_type": "markdown",
   "metadata": {},
   "source": [
    "### Cross-Validation"
   ]
  },
  {
   "cell_type": "code",
   "execution_count": 11,
   "metadata": {},
   "outputs": [
    {
     "name": "stdout",
     "output_type": "stream",
     "text": [
      "[0.9242124  0.90857017 0.93523008 0.96390505 0.9580712 ]\n",
      "Average 5-Fold CV Score: 0.9379977778203393\n"
     ]
    }
   ],
   "source": [
    "# Compute 5-fold cross-validation scores: cv_scores\n",
    "cv_scores = cross_val_score(pipeline,X,y,cv=5,error_score='raise')\n",
    "\n",
    "# Print the 5-fold cross-validation scores\n",
    "print(cv_scores)\n",
    "\n",
    "print(\"Average 5-Fold CV Score: {}\".format(np.mean(cv_scores)))"
   ]
  },
  {
   "cell_type": "markdown",
   "metadata": {},
   "source": [
    "### GridSearchCV"
   ]
  },
  {
   "cell_type": "code",
   "execution_count": 29,
   "metadata": {},
   "outputs": [],
   "source": [
    "# Create the parameter grid based on the results of random search \n",
    "\"\"\"\n",
    "param_grid = {\n",
    "    'rf__bootstrap': [True],\n",
    "    'rf__max_depth': [80, 90, 100, 110],\n",
    "    'rf__max_features': [2, 3],\n",
    "    'rf__min_samples_leaf': [3, 4, 5],\n",
    "    'rf__min_samples_split': [8, 10, 12],\n",
    "    'rf__n_estimators': [100, 200, 300, 1000]\n",
    "}\n",
    "\"\"\"\n",
    "param_grid = {\n",
    "    'rf__n_estimators': [100, 200, 300, 1000],\n",
    "    'rf__max_depth': [5, 8, 15, 25, 30],\n",
    "    'rf__min_samples_split': [8, 10, 12],\n",
    "    'rf__min_samples_leaf': [3, 4, 5] \n",
    "}\n",
    "\n",
    "# Create a based model\n",
    "rf = RandomForestRegressor()\n",
    "\n",
    "# Instantiate the grid search model\n",
    "grid_search = GridSearchCV(estimator = pipeline, param_grid = param_grid, \n",
    "                          cv = 5, n_jobs = -1, verbose = 3)"
   ]
  },
  {
   "cell_type": "code",
   "execution_count": 30,
   "metadata": {},
   "outputs": [
    {
     "name": "stdout",
     "output_type": "stream",
     "text": [
      "Fitting 5 folds for each of 180 candidates, totalling 900 fits\n"
     ]
    },
    {
     "name": "stderr",
     "output_type": "stream",
     "text": [
      "[Parallel(n_jobs=-1)]: Using backend LokyBackend with 4 concurrent workers.\n",
      "[Parallel(n_jobs=-1)]: Done  24 tasks      | elapsed:   11.2s\n",
      "[Parallel(n_jobs=-1)]: Done 120 tasks      | elapsed:  1.0min\n",
      "[Parallel(n_jobs=-1)]: Done 280 tasks      | elapsed:  2.5min\n",
      "[Parallel(n_jobs=-1)]: Done 504 tasks      | elapsed:  4.6min\n",
      "[Parallel(n_jobs=-1)]: Done 792 tasks      | elapsed:  7.3min\n",
      "[Parallel(n_jobs=-1)]: Done 900 out of 900 | elapsed:  8.3min finished\n"
     ]
    },
    {
     "data": {
      "text/plain": [
       "{'rf__max_depth': 25,\n",
       " 'rf__min_samples_leaf': 3,\n",
       " 'rf__min_samples_split': 8,\n",
       " 'rf__n_estimators': 100}"
      ]
     },
     "execution_count": 30,
     "metadata": {},
     "output_type": "execute_result"
    }
   ],
   "source": [
    "# Fit the grid search to the data\n",
    "grid_search.fit(X_train, y_train)\n",
    "\n",
    "# best parameters\n",
    "grid_search.best_params_"
   ]
  },
  {
   "cell_type": "code",
   "execution_count": 31,
   "metadata": {},
   "outputs": [
    {
     "name": "stdout",
     "output_type": "stream",
     "text": [
      "Model Performance\n",
      "Average Error: 874521.7519 degrees.\n",
      "Accuracy = 89.97%.\n"
     ]
    }
   ],
   "source": [
    "best_grid = grid_search.best_estimator_\n",
    "grid_accuracy = evaluate(best_grid, X_test, y_test)"
   ]
  },
  {
   "cell_type": "code",
   "execution_count": 18,
   "metadata": {},
   "outputs": [
    {
     "name": "stdout",
     "output_type": "stream",
     "text": [
      "Improvement of 0.00%.\n"
     ]
    }
   ],
   "source": [
    "print('Improvement of {:0.2f}%.'.format( 100 * (grid_accuracy - base_accuracy) / base_accuracy))"
   ]
  },
  {
   "cell_type": "code",
   "execution_count": 32,
   "metadata": {},
   "outputs": [],
   "source": [
    "def rmsle(y_test, y_pred):\n",
    "    return np.sqrt(metrics.mean_squared_log_error(y_test, y_pred))\n",
    "\n",
    "# Create function to evaluate our model\n",
    "def show_scores(model):\n",
    "    train_preds = model.predict(X_train)\n",
    "    test_preds = model.predict(X_test)\n",
    "    scores = {\"Training MAE\": metrics.mean_absolute_error(y_train, train_preds),\n",
    "              \"Valid MAE\": metrics.mean_absolute_error(y_test, test_preds),\n",
    "              \"Training RMSLE\": rmsle(y_train, train_preds),\n",
    "              \"Valid RMSLE\": rmsle(y_test, test_preds),\n",
    "              \"Training R^2\": model.score(X_train, y_train),\n",
    "              \"Valid R^2\": model.score(X_test, y_test)}\n",
    "    return scores"
   ]
  },
  {
   "cell_type": "code",
   "execution_count": 33,
   "metadata": {},
   "outputs": [
    {
     "data": {
      "text/plain": [
       "{'Training MAE': 500932.916125389,\n",
       " 'Valid MAE': 920783.5738459233,\n",
       " 'Training RMSLE': 0.08516849620956647,\n",
       " 'Valid RMSLE': 0.15100132630625307,\n",
       " 'Training R^2': 0.9883975080041035,\n",
       " 'Valid R^2': 0.9757780531413875}"
      ]
     },
     "execution_count": 33,
     "metadata": {},
     "output_type": "execute_result"
    }
   ],
   "source": [
    "show_scores(grid_search)"
   ]
  },
  {
   "cell_type": "code",
   "execution_count": 34,
   "metadata": {},
   "outputs": [
    {
     "data": {
      "text/plain": [
       "{'Training MAE': 422444.0067901234,\n",
       " 'Valid MAE': 874521.7518518517,\n",
       " 'Training RMSLE': 0.07009020877395382,\n",
       " 'Valid RMSLE': 0.14025840106783538,\n",
       " 'Training R^2': 0.9921353587614756,\n",
       " 'Valid R^2': 0.9770341828850343}"
      ]
     },
     "execution_count": 34,
     "metadata": {},
     "output_type": "execute_result"
    }
   ],
   "source": [
    "show_scores(pipeline)"
   ]
  },
  {
   "cell_type": "markdown",
   "metadata": {},
   "source": [
    "## Model Predictions"
   ]
  },
  {
   "cell_type": "code",
   "execution_count": 35,
   "metadata": {},
   "outputs": [
    {
     "data": {
      "text/html": [
       "<div>\n",
       "<style scoped>\n",
       "    .dataframe tbody tr th:only-of-type {\n",
       "        vertical-align: middle;\n",
       "    }\n",
       "\n",
       "    .dataframe tbody tr th {\n",
       "        vertical-align: top;\n",
       "    }\n",
       "\n",
       "    .dataframe thead th {\n",
       "        text-align: right;\n",
       "    }\n",
       "</style>\n",
       "<table border=\"1\" class=\"dataframe\">\n",
       "  <thead>\n",
       "    <tr style=\"text-align: right;\">\n",
       "      <th></th>\n",
       "      <th>Actual</th>\n",
       "      <th>Predicted</th>\n",
       "    </tr>\n",
       "  </thead>\n",
       "  <tbody>\n",
       "    <tr>\n",
       "      <td>0</td>\n",
       "      <td>1662060.0</td>\n",
       "      <td>1.793089e+06</td>\n",
       "    </tr>\n",
       "    <tr>\n",
       "      <td>1</td>\n",
       "      <td>12000835.0</td>\n",
       "      <td>1.240256e+07</td>\n",
       "    </tr>\n",
       "    <tr>\n",
       "      <td>2</td>\n",
       "      <td>31957493.0</td>\n",
       "      <td>2.803571e+07</td>\n",
       "    </tr>\n",
       "    <tr>\n",
       "      <td>3</td>\n",
       "      <td>17000450.0</td>\n",
       "      <td>1.733399e+07</td>\n",
       "    </tr>\n",
       "    <tr>\n",
       "      <td>4</td>\n",
       "      <td>8000000.0</td>\n",
       "      <td>8.714086e+06</td>\n",
       "    </tr>\n",
       "    <tr>\n",
       "      <td>...</td>\n",
       "      <td>...</td>\n",
       "      <td>...</td>\n",
       "    </tr>\n",
       "    <tr>\n",
       "      <td>76</td>\n",
       "      <td>33333333.0</td>\n",
       "      <td>2.681251e+07</td>\n",
       "    </tr>\n",
       "    <tr>\n",
       "      <td>77</td>\n",
       "      <td>14545000.0</td>\n",
       "      <td>1.291788e+07</td>\n",
       "    </tr>\n",
       "    <tr>\n",
       "      <td>78</td>\n",
       "      <td>1532398.0</td>\n",
       "      <td>1.518729e+06</td>\n",
       "    </tr>\n",
       "    <tr>\n",
       "      <td>79</td>\n",
       "      <td>1270792.0</td>\n",
       "      <td>1.500010e+06</td>\n",
       "    </tr>\n",
       "    <tr>\n",
       "      <td>80</td>\n",
       "      <td>1399637.0</td>\n",
       "      <td>1.397998e+06</td>\n",
       "    </tr>\n",
       "  </tbody>\n",
       "</table>\n",
       "<p>81 rows × 2 columns</p>\n",
       "</div>"
      ],
      "text/plain": [
       "        Actual     Predicted\n",
       "0    1662060.0  1.793089e+06\n",
       "1   12000835.0  1.240256e+07\n",
       "2   31957493.0  2.803571e+07\n",
       "3   17000450.0  1.733399e+07\n",
       "4    8000000.0  8.714086e+06\n",
       "..         ...           ...\n",
       "76  33333333.0  2.681251e+07\n",
       "77  14545000.0  1.291788e+07\n",
       "78   1532398.0  1.518729e+06\n",
       "79   1270792.0  1.500010e+06\n",
       "80   1399637.0  1.397998e+06\n",
       "\n",
       "[81 rows x 2 columns]"
      ]
     },
     "execution_count": 35,
     "metadata": {},
     "output_type": "execute_result"
    }
   ],
   "source": [
    "y_pred = grid_search.predict(X_test)\n",
    "df = pd.DataFrame({'Actual': y_test, 'Predicted': y_pred})\n",
    "df"
   ]
  },
  {
   "cell_type": "code",
   "execution_count": 36,
   "metadata": {},
   "outputs": [
    {
     "data": {
      "image/png": "[encoded data removed]",
      "text/plain": [
       "<Figure size 1152x720 with 1 Axes>"
      ]
     },
     "metadata": {
      "needs_background": "light"
     },
     "output_type": "display_data"
    }
   ],
   "source": [
    "df = df.head(25)\n",
    "df.plot(kind='bar',figsize=(16,10))\n",
    "plt.grid(which='major', linestyle='-', linewidth='0.5', color='green')\n",
    "plt.grid(which='minor', linestyle=':', linewidth='0.5', color='black')\n",
    "plt.show()"
   ]
  },
  {
   "cell_type": "markdown",
   "metadata": {},
   "source": [
    "## Feature Importance"
   ]
  },
  {
   "cell_type": "code",
   "execution_count": 41,
   "metadata": {},
   "outputs": [
    {
     "data": {
      "text/plain": [
       "array([6.43274359e-03, 6.52928470e-03, 3.13130337e-01, 6.34316796e-01,\n",
       "       1.91000150e-04, 1.98325705e-03, 5.04020434e-03, 2.21767031e-04,\n",
       "       1.76207874e-03, 3.30442296e-04, 6.30098735e-04, 1.51134618e-03,\n",
       "       1.01583882e-04, 2.51047098e-03, 5.98132508e-04, 2.42811716e-04,\n",
       "       1.91819290e-03, 1.51972751e-03, 7.95635971e-05, 3.19887146e-03,\n",
       "       3.22503780e-03, 5.73984029e-04, 6.92563919e-04, 1.18893540e-03,\n",
       "       3.31650643e-03, 2.94167683e-03, 1.38620878e-03, 2.43207892e-04,\n",
       "       1.09001243e-03, 9.81054004e-04, 9.96459051e-04, 1.83497987e-04,\n",
       "       3.96869321e-04, 5.35276125e-04])"
      ]
     },
     "execution_count": 41,
     "metadata": {},
     "output_type": "execute_result"
    }
   ],
   "source": [
    "# Showing feature importance\n",
    "model = pipeline.steps[2][1]\n",
    "model.feature_importances_"
   ]
  },
  {
   "cell_type": "code",
   "execution_count": 50,
   "metadata": {},
   "outputs": [
    {
     "data": {
      "text/html": [
       "<div>\n",
       "<style scoped>\n",
       "    .dataframe tbody tr th:only-of-type {\n",
       "        vertical-align: middle;\n",
       "    }\n",
       "\n",
       "    .dataframe tbody tr th {\n",
       "        vertical-align: top;\n",
       "    }\n",
       "\n",
       "    .dataframe thead th {\n",
       "        text-align: right;\n",
       "    }\n",
       "</style>\n",
       "<table border=\"1\" class=\"dataframe\">\n",
       "  <thead>\n",
       "    <tr style=\"text-align: right;\">\n",
       "      <th></th>\n",
       "      <th>feature importance</th>\n",
       "    </tr>\n",
       "  </thead>\n",
       "  <tbody>\n",
       "    <tr>\n",
       "      <td>3</td>\n",
       "      <td>0.634317</td>\n",
       "    </tr>\n",
       "    <tr>\n",
       "      <td>2</td>\n",
       "      <td>0.313130</td>\n",
       "    </tr>\n",
       "    <tr>\n",
       "      <td>1</td>\n",
       "      <td>0.006529</td>\n",
       "    </tr>\n",
       "    <tr>\n",
       "      <td>0</td>\n",
       "      <td>0.006433</td>\n",
       "    </tr>\n",
       "    <tr>\n",
       "      <td>6</td>\n",
       "      <td>0.005040</td>\n",
       "    </tr>\n",
       "    <tr>\n",
       "      <td>24</td>\n",
       "      <td>0.003317</td>\n",
       "    </tr>\n",
       "    <tr>\n",
       "      <td>20</td>\n",
       "      <td>0.003225</td>\n",
       "    </tr>\n",
       "    <tr>\n",
       "      <td>19</td>\n",
       "      <td>0.003199</td>\n",
       "    </tr>\n",
       "    <tr>\n",
       "      <td>25</td>\n",
       "      <td>0.002942</td>\n",
       "    </tr>\n",
       "    <tr>\n",
       "      <td>13</td>\n",
       "      <td>0.002510</td>\n",
       "    </tr>\n",
       "    <tr>\n",
       "      <td>5</td>\n",
       "      <td>0.001983</td>\n",
       "    </tr>\n",
       "    <tr>\n",
       "      <td>16</td>\n",
       "      <td>0.001918</td>\n",
       "    </tr>\n",
       "    <tr>\n",
       "      <td>8</td>\n",
       "      <td>0.001762</td>\n",
       "    </tr>\n",
       "    <tr>\n",
       "      <td>17</td>\n",
       "      <td>0.001520</td>\n",
       "    </tr>\n",
       "    <tr>\n",
       "      <td>11</td>\n",
       "      <td>0.001511</td>\n",
       "    </tr>\n",
       "    <tr>\n",
       "      <td>26</td>\n",
       "      <td>0.001386</td>\n",
       "    </tr>\n",
       "    <tr>\n",
       "      <td>23</td>\n",
       "      <td>0.001189</td>\n",
       "    </tr>\n",
       "    <tr>\n",
       "      <td>28</td>\n",
       "      <td>0.001090</td>\n",
       "    </tr>\n",
       "    <tr>\n",
       "      <td>30</td>\n",
       "      <td>0.000996</td>\n",
       "    </tr>\n",
       "    <tr>\n",
       "      <td>29</td>\n",
       "      <td>0.000981</td>\n",
       "    </tr>\n",
       "    <tr>\n",
       "      <td>22</td>\n",
       "      <td>0.000693</td>\n",
       "    </tr>\n",
       "    <tr>\n",
       "      <td>10</td>\n",
       "      <td>0.000630</td>\n",
       "    </tr>\n",
       "    <tr>\n",
       "      <td>14</td>\n",
       "      <td>0.000598</td>\n",
       "    </tr>\n",
       "    <tr>\n",
       "      <td>21</td>\n",
       "      <td>0.000574</td>\n",
       "    </tr>\n",
       "    <tr>\n",
       "      <td>33</td>\n",
       "      <td>0.000535</td>\n",
       "    </tr>\n",
       "    <tr>\n",
       "      <td>32</td>\n",
       "      <td>0.000397</td>\n",
       "    </tr>\n",
       "    <tr>\n",
       "      <td>9</td>\n",
       "      <td>0.000330</td>\n",
       "    </tr>\n",
       "    <tr>\n",
       "      <td>27</td>\n",
       "      <td>0.000243</td>\n",
       "    </tr>\n",
       "    <tr>\n",
       "      <td>15</td>\n",
       "      <td>0.000243</td>\n",
       "    </tr>\n",
       "    <tr>\n",
       "      <td>7</td>\n",
       "      <td>0.000222</td>\n",
       "    </tr>\n",
       "    <tr>\n",
       "      <td>4</td>\n",
       "      <td>0.000191</td>\n",
       "    </tr>\n",
       "    <tr>\n",
       "      <td>31</td>\n",
       "      <td>0.000183</td>\n",
       "    </tr>\n",
       "    <tr>\n",
       "      <td>12</td>\n",
       "      <td>0.000102</td>\n",
       "    </tr>\n",
       "    <tr>\n",
       "      <td>18</td>\n",
       "      <td>0.000080</td>\n",
       "    </tr>\n",
       "  </tbody>\n",
       "</table>\n",
       "</div>"
      ],
      "text/plain": [
       "    feature importance\n",
       "3             0.634317\n",
       "2             0.313130\n",
       "1             0.006529\n",
       "0             0.006433\n",
       "6             0.005040\n",
       "24            0.003317\n",
       "20            0.003225\n",
       "19            0.003199\n",
       "25            0.002942\n",
       "13            0.002510\n",
       "5             0.001983\n",
       "16            0.001918\n",
       "8             0.001762\n",
       "17            0.001520\n",
       "11            0.001511\n",
       "26            0.001386\n",
       "23            0.001189\n",
       "28            0.001090\n",
       "30            0.000996\n",
       "29            0.000981\n",
       "22            0.000693\n",
       "10            0.000630\n",
       "14            0.000598\n",
       "21            0.000574\n",
       "33            0.000535\n",
       "32            0.000397\n",
       "9             0.000330\n",
       "27            0.000243\n",
       "15            0.000243\n",
       "7             0.000222\n",
       "4             0.000191\n",
       "31            0.000183\n",
       "12            0.000102\n",
       "18            0.000080"
      ]
     },
     "execution_count": 50,
     "metadata": {},
     "output_type": "execute_result"
    }
   ],
   "source": [
    "# Ranking feature importance\n",
    "df_feature_importance = pd.DataFrame(model.feature_importances_, columns=['feature importance']).sort_values('feature importance', ascending=False)\n",
    "df_feature_importance"
   ]
  },
  {
   "cell_type": "code",
   "execution_count": 46,
   "metadata": {},
   "outputs": [
    {
     "name": "stdout",
     "output_type": "stream",
     "text": [
      "Feature: 0, Score: 0.00643\n",
      "Feature: 1, Score: 0.00653\n",
      "Feature: 2, Score: 0.31313\n",
      "Feature: 3, Score: 0.63432\n",
      "Feature: 4, Score: 0.00019\n",
      "Feature: 5, Score: 0.00198\n",
      "Feature: 6, Score: 0.00504\n",
      "Feature: 7, Score: 0.00022\n",
      "Feature: 8, Score: 0.00176\n",
      "Feature: 9, Score: 0.00033\n",
      "Feature: 10, Score: 0.00063\n",
      "Feature: 11, Score: 0.00151\n",
      "Feature: 12, Score: 0.00010\n",
      "Feature: 13, Score: 0.00251\n",
      "Feature: 14, Score: 0.00060\n",
      "Feature: 15, Score: 0.00024\n",
      "Feature: 16, Score: 0.00192\n",
      "Feature: 17, Score: 0.00152\n",
      "Feature: 18, Score: 0.00008\n",
      "Feature: 19, Score: 0.00320\n",
      "Feature: 20, Score: 0.00323\n",
      "Feature: 21, Score: 0.00057\n",
      "Feature: 22, Score: 0.00069\n",
      "Feature: 23, Score: 0.00119\n",
      "Feature: 24, Score: 0.00332\n",
      "Feature: 25, Score: 0.00294\n",
      "Feature: 26, Score: 0.00139\n",
      "Feature: 27, Score: 0.00024\n",
      "Feature: 28, Score: 0.00109\n",
      "Feature: 29, Score: 0.00098\n",
      "Feature: 30, Score: 0.00100\n",
      "Feature: 31, Score: 0.00018\n",
      "Feature: 32, Score: 0.00040\n",
      "Feature: 33, Score: 0.00054\n"
     ]
    },
    {
     "data": {
      "image/png": "[encoded data removed]",
      "text/plain": [
       "<Figure size 432x288 with 1 Axes>"
      ]
     },
     "metadata": {
      "needs_background": "light"
     },
     "output_type": "display_data"
    }
   ],
   "source": [
    "import matplotlib.pyplot as plt\n",
    "\n",
    "# Display feature importance and display plot \n",
    "# Get importance\n",
    "importance = model.feature_importances_\n",
    "# summarize feature importance\n",
    "for i,v in enumerate(importance):\n",
    "    print('Feature: %0d, Score: %.5f' % (i,v))\n",
    "# plot feature importance\n",
    "plt.bar([x for x in range(len(importance))], importance)\n",
    "plt.show()"
   ]
  },
  {
   "cell_type": "code",
   "execution_count": 47,
   "metadata": {},
   "outputs": [
    {
     "name": "stdout",
     "output_type": "stream",
     "text": [
      "Age = 0.006432743590503068\n",
      "Yrs = 0.006529284701047239\n",
      "Dollars = 0.3131303367776469\n",
      "Guaranteed = 0.634316795867433\n",
      "% GTD = 0.0001910001495518886\n",
      "Avg. Salary = 0.0019832570468695616\n",
      "Free Agent = 0.005040204335822387\n",
      "Year = 0.00022176703057194728\n",
      "Contract Ends = 0.0017620787367612287\n",
      "G = 0.0003304422964433954\n",
      "FG% = 0.0006300987347806466\n",
      "3P% = 0.001511346179428632\n",
      "2P% = 0.00010158388163915065\n",
      "eFG% = 0.002510470980695977\n",
      "FT% = 0.000598132508395844\n",
      "MP = 0.00024281171643557967\n",
      "ORB = 0.0019181928978405343\n",
      "DRB = 0.0015197275070863265\n",
      "FG = 7.956359711601378e-05\n",
      "FGA = 0.003198871464812783\n",
      "3P = 0.003225037804748481\n",
      "3PA = 0.0005739840286142857\n",
      "2P = 0.0006925639190807274\n",
      "2PA = 0.001188935395116242\n",
      "FT = 0.0033165064261211504\n",
      "FTA = 0.0029416768306414\n",
      "TRB = 0.0013862087818882624\n",
      "AST = 0.00024320789231374986\n",
      "STL = 0.001090012432593967\n",
      "BLK = 0.0009810540043855215\n",
      "TOV = 0.0009964590514174392\n",
      "PF = 0.0001834979865920906\n",
      "PTS = 0.0003968693205605047\n",
      "PER = 0.0005352761250441501\n"
     ]
    }
   ],
   "source": [
    "# Match feature with feature name\n",
    "for name, importance in zip(df_final.columns, model.feature_importances_):\n",
    "    print(name, \"=\", importance)"
   ]
  },
  {
   "cell_type": "code",
   "execution_count": null,
   "metadata": {},
   "outputs": [],
   "source": []
  }
 ],
 "metadata": {
  "kernelspec": {
   "display_name": "Python 3",
   "language": "python",
   "name": "python3"
  }
 },
 "nbformat": 4,
 "nbformat_minor": 2
}
