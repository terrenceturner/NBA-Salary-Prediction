{
 "cells": [
  {
   "cell_type": "markdown",
   "metadata": {},
   "source": [
    "# Statistical Data Analysis\n",
    "\n",
    "The purpose of this project is to answer the following questions...\n",
    "1. Are there NBA players making less or more than average salary?\n",
    "2. What's the correlation of NBA players' salary and age?\n"
   ]
  },
  {
   "cell_type": "code",
   "execution_count": 11,
   "metadata": {},
   "outputs": [],
   "source": [
    "import numpy as np\n",
    "import pandas as pd\n",
    "import matplotlib.pyplot as plt\n",
    "%matplotlib inline\n",
    "import sklearn\n",
    "import scipy.stats as st\n",
    "from numpy.random import seed\n",
    "import seaborn as sns\n",
    "\n",
    "df_final = pd.read_pickle('NBA.pkl')"
   ]
  },
  {
   "cell_type": "code",
   "execution_count": 3,
   "metadata": {},
   "outputs": [
    {
     "data": {
      "text/html": [
       "<div>\n",
       "<style scoped>\n",
       "    .dataframe tbody tr th:only-of-type {\n",
       "        vertical-align: middle;\n",
       "    }\n",
       "\n",
       "    .dataframe tbody tr th {\n",
       "        vertical-align: top;\n",
       "    }\n",
       "\n",
       "    .dataframe thead th {\n",
       "        text-align: right;\n",
       "    }\n",
       "</style>\n",
       "<table border=\"1\" class=\"dataframe\">\n",
       "  <thead>\n",
       "    <tr style=\"text-align: right;\">\n",
       "      <th></th>\n",
       "      <th>Player</th>\n",
       "      <th>Dollars</th>\n",
       "    </tr>\n",
       "  </thead>\n",
       "  <tbody>\n",
       "    <tr>\n",
       "      <td>0</td>\n",
       "      <td>Russell Westbrook</td>\n",
       "      <td>206794070.0</td>\n",
       "    </tr>\n",
       "    <tr>\n",
       "      <td>1</td>\n",
       "      <td>Stephen Curry</td>\n",
       "      <td>201158790.0</td>\n",
       "    </tr>\n",
       "    <tr>\n",
       "      <td>3</td>\n",
       "      <td>Klay Thompson</td>\n",
       "      <td>189903600.0</td>\n",
       "    </tr>\n",
       "    <tr>\n",
       "      <td>4</td>\n",
       "      <td>Tobias Harris</td>\n",
       "      <td>180000000.0</td>\n",
       "    </tr>\n",
       "    <tr>\n",
       "      <td>5</td>\n",
       "      <td>Khris Middleton</td>\n",
       "      <td>177500000.0</td>\n",
       "    </tr>\n",
       "    <tr>\n",
       "      <td>6</td>\n",
       "      <td>Blake Griffin</td>\n",
       "      <td>171174820.0</td>\n",
       "    </tr>\n",
       "    <tr>\n",
       "      <td>9</td>\n",
       "      <td>James Harden</td>\n",
       "      <td>171131520.0</td>\n",
       "    </tr>\n",
       "    <tr>\n",
       "      <td>10</td>\n",
       "      <td>John Wall</td>\n",
       "      <td>171131520.0</td>\n",
       "    </tr>\n",
       "    <tr>\n",
       "      <td>13</td>\n",
       "      <td>Kevin Durant</td>\n",
       "      <td>164255700.0</td>\n",
       "    </tr>\n",
       "    <tr>\n",
       "      <td>14</td>\n",
       "      <td>Chris Paul</td>\n",
       "      <td>159730592.0</td>\n",
       "    </tr>\n",
       "  </tbody>\n",
       "</table>\n",
       "</div>"
      ],
      "text/plain": [
       "               Player      Dollars\n",
       "0   Russell Westbrook  206794070.0\n",
       "1       Stephen Curry  201158790.0\n",
       "3       Klay Thompson  189903600.0\n",
       "4       Tobias Harris  180000000.0\n",
       "5     Khris Middleton  177500000.0\n",
       "6       Blake Griffin  171174820.0\n",
       "9        James Harden  171131520.0\n",
       "10          John Wall  171131520.0\n",
       "13       Kevin Durant  164255700.0\n",
       "14         Chris Paul  159730592.0"
      ]
     },
     "execution_count": 3,
     "metadata": {},
     "output_type": "execute_result"
    }
   ],
   "source": [
    "df_final.sort_values(by='Dollars',ascending = False,inplace = True)\n",
    "df_final[['Player','Dollars']].head(10)"
   ]
  },
  {
   "cell_type": "code",
   "execution_count": 4,
   "metadata": {},
   "outputs": [
    {
     "data": {
      "text/html": [
       "<div>\n",
       "<style scoped>\n",
       "    .dataframe tbody tr th:only-of-type {\n",
       "        vertical-align: middle;\n",
       "    }\n",
       "\n",
       "    .dataframe tbody tr th {\n",
       "        vertical-align: top;\n",
       "    }\n",
       "\n",
       "    .dataframe thead th {\n",
       "        text-align: right;\n",
       "    }\n",
       "</style>\n",
       "<table border=\"1\" class=\"dataframe\">\n",
       "  <thead>\n",
       "    <tr style=\"text-align: right;\">\n",
       "      <th></th>\n",
       "      <th>Player</th>\n",
       "      <th>Avg. Salary</th>\n",
       "    </tr>\n",
       "  </thead>\n",
       "  <tbody>\n",
       "    <tr>\n",
       "      <td>9</td>\n",
       "      <td>James Harden</td>\n",
       "      <td>42782880.0</td>\n",
       "    </tr>\n",
       "    <tr>\n",
       "      <td>10</td>\n",
       "      <td>John Wall</td>\n",
       "      <td>42782880.0</td>\n",
       "    </tr>\n",
       "    <tr>\n",
       "      <td>0</td>\n",
       "      <td>Russell Westbrook</td>\n",
       "      <td>41358814.0</td>\n",
       "    </tr>\n",
       "    <tr>\n",
       "      <td>13</td>\n",
       "      <td>Kevin Durant</td>\n",
       "      <td>41063925.0</td>\n",
       "    </tr>\n",
       "    <tr>\n",
       "      <td>1</td>\n",
       "      <td>Stephen Curry</td>\n",
       "      <td>40231758.0</td>\n",
       "    </tr>\n",
       "    <tr>\n",
       "      <td>14</td>\n",
       "      <td>Chris Paul</td>\n",
       "      <td>39932648.0</td>\n",
       "    </tr>\n",
       "    <tr>\n",
       "      <td>18</td>\n",
       "      <td>LeBron James</td>\n",
       "      <td>38328212.0</td>\n",
       "    </tr>\n",
       "    <tr>\n",
       "      <td>3</td>\n",
       "      <td>Klay Thompson</td>\n",
       "      <td>37980720.0</td>\n",
       "    </tr>\n",
       "    <tr>\n",
       "      <td>4</td>\n",
       "      <td>Tobias Harris</td>\n",
       "      <td>36000000.0</td>\n",
       "    </tr>\n",
       "    <tr>\n",
       "      <td>5</td>\n",
       "      <td>Khris Middleton</td>\n",
       "      <td>35500000.0</td>\n",
       "    </tr>\n",
       "  </tbody>\n",
       "</table>\n",
       "</div>"
      ],
      "text/plain": [
       "               Player  Avg. Salary\n",
       "9        James Harden   42782880.0\n",
       "10          John Wall   42782880.0\n",
       "0   Russell Westbrook   41358814.0\n",
       "13       Kevin Durant   41063925.0\n",
       "1       Stephen Curry   40231758.0\n",
       "14         Chris Paul   39932648.0\n",
       "18       LeBron James   38328212.0\n",
       "3       Klay Thompson   37980720.0\n",
       "4       Tobias Harris   36000000.0\n",
       "5     Khris Middleton   35500000.0"
      ]
     },
     "execution_count": 4,
     "metadata": {},
     "output_type": "execute_result"
    }
   ],
   "source": [
    "df_final.sort_values(by='Avg. Salary',ascending = False,inplace = True)\n",
    "df_final[['Player','Avg. Salary']].head(10)"
   ]
  },
  {
   "cell_type": "code",
   "execution_count": 7,
   "metadata": {},
   "outputs": [
    {
     "data": {
      "image/png": "[encoded data removed]",
      "text/plain": [
       "<Figure size 432x288 with 1 Axes>"
      ]
     },
     "metadata": {
      "needs_background": "light"
     },
     "output_type": "display_data"
    }
   ],
   "source": [
    "seed(47)\n",
    "money = st.norm.rvs(172, 5, size=50000)\n",
    "_ = plt.hist(df_final['Avg. Salary'], bins=30)\n",
    "_ = plt.xlabel('Salary')\n",
    "_ = plt.ylabel('Number of Players')\n",
    "_ = plt.title('Distribution of Salary in the NBA')\n",
    "_ = plt.axvline(172, color='r')\n",
    "_ = plt.axvline(172+5, color='r', linestyle='--')\n",
    "_ = plt.axvline(172-5, color='r', linestyle='--')\n",
    "_ = plt.axvline(172+10, color='r', linestyle='-.')\n",
    "_ = plt.axvline(172-10, color='r', linestyle='-.')"
   ]
  },
  {
   "cell_type": "code",
   "execution_count": 9,
   "metadata": {},
   "outputs": [
    {
     "data": {
      "image/png": "[encoded data removed]",
      "text/plain": [
       "<Figure size 576x288 with 1 Axes>"
      ]
     },
     "metadata": {
      "needs_background": "light"
     },
     "output_type": "display_data"
    }
   ],
   "source": [
    "#Probability Density Function (PDF) Chart\n",
    "x = df_final['Avg. Salary']\n",
    "\n",
    "plt.figure(figsize=(8, 4))\n",
    "plt.plot(x, st.norm.pdf(x, x.mean(), x.std()))\n",
    "plt.show()"
   ]
  },
  {
   "cell_type": "code",
   "execution_count": 12,
   "metadata": {},
   "outputs": [
    {
     "data": {
      "text/plain": [
       "<matplotlib.axes._subplots.AxesSubplot at 0x1a237952d0>"
      ]
     },
     "execution_count": 12,
     "metadata": {},
     "output_type": "execute_result"
    },
    {
     "data": {
      "image/png": "[encoded data removed]",
      "text/plain": [
       "<Figure size 432x288 with 1 Axes>"
      ]
     },
     "metadata": {
      "needs_background": "light"
     },
     "output_type": "display_data"
    }
   ],
   "source": [
    "#Creating a column with the salary log to normalize the distribution\n",
    "df_final['salary_log'] = np.log1p(df_final['Avg. Salary'])\n",
    "sns.distplot(df_final['salary_log'], bins=25)"
   ]
  },
  {
   "cell_type": "code",
   "execution_count": 13,
   "metadata": {},
   "outputs": [
    {
     "data": {
      "text/plain": [
       "<matplotlib.axes._subplots.AxesSubplot at 0x1a248e5190>"
      ]
     },
     "execution_count": 13,
     "metadata": {},
     "output_type": "execute_result"
    },
    {
     "data": {
      "image/png": "[encoded data removed]",
      "text/plain": [
       "<Figure size 432x288 with 1 Axes>"
      ]
     },
     "metadata": {
      "needs_background": "light"
     },
     "output_type": "display_data"
    }
   ],
   "source": [
    "#Dividing by the mean and standard deviation to standardize the series in a new column\n",
    "df_final['norm_log_salary'] = ((df_final['salary_log'] - df_final['salary_log'].mean()) / df_final['salary_log'].std())\n",
    "sns.distplot(df_final['norm_log_salary'], bins=25)"
   ]
  },
  {
   "cell_type": "markdown",
   "metadata": {},
   "source": [
    "### Mean and Standard Deviation"
   ]
  },
  {
   "cell_type": "code",
   "execution_count": 14,
   "metadata": {},
   "outputs": [
    {
     "name": "stdout",
     "output_type": "stream",
     "text": [
      "Mean: -0.0000\n",
      "Standard Deviation: 1.0000\n"
     ]
    }
   ],
   "source": [
    "print(f\"\"\"Mean: {df_final.norm_log_salary.mean():.4f}\n",
    "Standard Deviation: {df_final.norm_log_salary.std():.4f}\"\"\")"
   ]
  },
  {
   "cell_type": "markdown",
   "metadata": {},
   "source": [
    "### P Value"
   ]
  },
  {
   "cell_type": "code",
   "execution_count": 15,
   "metadata": {},
   "outputs": [
    {
     "data": {
      "text/plain": [
       "0.045500263896357244"
      ]
     },
     "execution_count": 15,
     "metadata": {},
     "output_type": "execute_result"
    }
   ],
   "source": [
    "norm_mean = df_final.norm_log_salary.mean()\n",
    "norm_std = df_final.norm_log_salary.std()\n",
    "\n",
    "p_value = st.norm(norm_mean, norm_std).sf(2*norm_std) * 2 #to sides\n",
    "p_value"
   ]
  },
  {
   "cell_type": "markdown",
   "metadata": {},
   "source": [
    "### Calculating z score"
   ]
  },
  {
   "cell_type": "code",
   "execution_count": 16,
   "metadata": {},
   "outputs": [
    {
     "name": "stdout",
     "output_type": "stream",
     "text": [
      "-1.9600 <--------> 1.9600\n"
     ]
    }
   ],
   "source": [
    "z_score_inf = st.norm.interval(alpha=0.95, loc=norm_mean, scale=norm_std)[0]\n",
    "z_score_sup = st.norm.interval(alpha=0.95, loc=norm_mean, scale=norm_std)[1]\n",
    "\n",
    "print(f'{z_score_inf:.4f} <--------> {z_score_sup:.4f}')"
   ]
  },
  {
   "cell_type": "markdown",
   "metadata": {},
   "source": [
    "### Lower Than Average Salary"
   ]
  },
  {
   "cell_type": "code",
   "execution_count": 17,
   "metadata": {},
   "outputs": [
    {
     "data": {
      "text/html": [
       "<div>\n",
       "<style scoped>\n",
       "    .dataframe tbody tr th:only-of-type {\n",
       "        vertical-align: middle;\n",
       "    }\n",
       "\n",
       "    .dataframe tbody tr th {\n",
       "        vertical-align: top;\n",
       "    }\n",
       "\n",
       "    .dataframe thead th {\n",
       "        text-align: right;\n",
       "    }\n",
       "</style>\n",
       "<table border=\"1\" class=\"dataframe\">\n",
       "  <thead>\n",
       "    <tr style=\"text-align: right;\">\n",
       "      <th></th>\n",
       "      <th>Player</th>\n",
       "      <th>Pos_x</th>\n",
       "      <th>Team_x</th>\n",
       "      <th>Age_x</th>\n",
       "      <th>Yrs</th>\n",
       "      <th>Dollars</th>\n",
       "      <th>Guaranteed</th>\n",
       "      <th>% GTD</th>\n",
       "      <th>Avg. Salary</th>\n",
       "      <th>Free Agent</th>\n",
       "      <th>...</th>\n",
       "      <th>STL</th>\n",
       "      <th>BLK</th>\n",
       "      <th>TOV</th>\n",
       "      <th>PF</th>\n",
       "      <th>PTS</th>\n",
       "      <th>PER</th>\n",
       "      <th>Team_y</th>\n",
       "      <th>GS</th>\n",
       "      <th>salary_log</th>\n",
       "      <th>norm_log_salary</th>\n",
       "    </tr>\n",
       "  </thead>\n",
       "  <tbody>\n",
       "  </tbody>\n",
       "</table>\n",
       "<p>0 rows × 43 columns</p>\n",
       "</div>"
      ],
      "text/plain": [
       "Empty DataFrame\n",
       "Columns: [Player, Pos_x, Team_x, Age_x, Yrs, Dollars, Guaranteed, % GTD, Avg. Salary, Free Agent, Year, Contract Ends, Pos_y, Age_y, G, FG%, 3P%, 2P%, eFG%, FT%, MP, ORB, DRB, FG, FGA, 3P, 3PA, 2P, 2PA, FT, FTA, TRB, AST, STL, BLK, TOV, PF, PTS, PER, Team_y, GS, salary_log, norm_log_salary]\n",
       "Index: []\n",
       "\n",
       "[0 rows x 43 columns]"
      ]
     },
     "execution_count": 17,
     "metadata": {},
     "output_type": "execute_result"
    }
   ],
   "source": [
    "#Players\n",
    "df_final_lower = df_final[df_final['norm_log_salary'] < z_score_inf]\n",
    "df_final_lower"
   ]
  },
  {
   "cell_type": "code",
   "execution_count": 18,
   "metadata": {},
   "outputs": [
    {
     "name": "stdout",
     "output_type": "stream",
     "text": [
      "Players with a lower salary than the average: \n",
      "Total - 0\n",
      "Rate - 0.00%\n"
     ]
    }
   ],
   "source": [
    "print(f\"\"\"Players with a lower salary than the average: \n",
    "Total - {df_final_lower.shape[0]}\n",
    "Rate - {df_final_lower.shape[0] / df_final.shape[0] * 100:.2f}%\"\"\")"
   ]
  },
  {
   "cell_type": "markdown",
   "metadata": {},
   "source": [
    "### Higher Than Average Salary"
   ]
  },
  {
   "cell_type": "code",
   "execution_count": 19,
   "metadata": {},
   "outputs": [
    {
     "data": {
      "text/html": [
       "<div>\n",
       "<style scoped>\n",
       "    .dataframe tbody tr th:only-of-type {\n",
       "        vertical-align: middle;\n",
       "    }\n",
       "\n",
       "    .dataframe tbody tr th {\n",
       "        vertical-align: top;\n",
       "    }\n",
       "\n",
       "    .dataframe thead th {\n",
       "        text-align: right;\n",
       "    }\n",
       "</style>\n",
       "<table border=\"1\" class=\"dataframe\">\n",
       "  <thead>\n",
       "    <tr style=\"text-align: right;\">\n",
       "      <th></th>\n",
       "      <th>Player</th>\n",
       "      <th>Pos_x</th>\n",
       "      <th>Team_x</th>\n",
       "      <th>Age_x</th>\n",
       "      <th>Yrs</th>\n",
       "      <th>Dollars</th>\n",
       "      <th>Guaranteed</th>\n",
       "      <th>% GTD</th>\n",
       "      <th>Avg. Salary</th>\n",
       "      <th>Free Agent</th>\n",
       "      <th>...</th>\n",
       "      <th>STL</th>\n",
       "      <th>BLK</th>\n",
       "      <th>TOV</th>\n",
       "      <th>PF</th>\n",
       "      <th>PTS</th>\n",
       "      <th>PER</th>\n",
       "      <th>Team_y</th>\n",
       "      <th>GS</th>\n",
       "      <th>salary_log</th>\n",
       "      <th>norm_log_salary</th>\n",
       "    </tr>\n",
       "  </thead>\n",
       "  <tbody>\n",
       "    <tr>\n",
       "      <td>9</td>\n",
       "      <td>James Harden</td>\n",
       "      <td>SG</td>\n",
       "      <td>HOU</td>\n",
       "      <td>30.0</td>\n",
       "      <td>4.0</td>\n",
       "      <td>171131520.0</td>\n",
       "      <td>171131520.0</td>\n",
       "      <td>100.00</td>\n",
       "      <td>42782880.0</td>\n",
       "      <td>2023.0</td>\n",
       "      <td>...</td>\n",
       "      <td>1.700000</td>\n",
       "      <td>0.900000</td>\n",
       "      <td>4.500000</td>\n",
       "      <td>3.400000</td>\n",
       "      <td>34.400000</td>\n",
       "      <td>28.4</td>\n",
       "      <td>HOU</td>\n",
       "      <td>61.0</td>\n",
       "      <td>17.571649</td>\n",
       "      <td>2.047654</td>\n",
       "    </tr>\n",
       "    <tr>\n",
       "      <td>0</td>\n",
       "      <td>Russell Westbrook</td>\n",
       "      <td>PG</td>\n",
       "      <td>HOUSigned w/OKC</td>\n",
       "      <td>31.0</td>\n",
       "      <td>5.0</td>\n",
       "      <td>206794070.0</td>\n",
       "      <td>206794070.0</td>\n",
       "      <td>100.00</td>\n",
       "      <td>41358814.0</td>\n",
       "      <td>2023.0</td>\n",
       "      <td>...</td>\n",
       "      <td>1.945205</td>\n",
       "      <td>0.452055</td>\n",
       "      <td>4.452055</td>\n",
       "      <td>3.356164</td>\n",
       "      <td>22.945205</td>\n",
       "      <td>21.1</td>\n",
       "      <td>NaN</td>\n",
       "      <td>NaN</td>\n",
       "      <td>17.537796</td>\n",
       "      <td>2.015385</td>\n",
       "    </tr>\n",
       "    <tr>\n",
       "      <td>1</td>\n",
       "      <td>Stephen Curry</td>\n",
       "      <td>PG</td>\n",
       "      <td>GSW</td>\n",
       "      <td>32.0</td>\n",
       "      <td>5.0</td>\n",
       "      <td>201158790.0</td>\n",
       "      <td>201158790.0</td>\n",
       "      <td>100.00</td>\n",
       "      <td>40231758.0</td>\n",
       "      <td>2022.0</td>\n",
       "      <td>...</td>\n",
       "      <td>1.568627</td>\n",
       "      <td>0.156863</td>\n",
       "      <td>3.000000</td>\n",
       "      <td>2.235294</td>\n",
       "      <td>26.392157</td>\n",
       "      <td>28.2</td>\n",
       "      <td>NaN</td>\n",
       "      <td>NaN</td>\n",
       "      <td>17.510167</td>\n",
       "      <td>1.989048</td>\n",
       "    </tr>\n",
       "    <tr>\n",
       "      <td>14</td>\n",
       "      <td>Chris Paul</td>\n",
       "      <td>PG</td>\n",
       "      <td>OKCSigned w/HOU</td>\n",
       "      <td>35.0</td>\n",
       "      <td>4.0</td>\n",
       "      <td>159730592.0</td>\n",
       "      <td>159730592.0</td>\n",
       "      <td>100.00</td>\n",
       "      <td>39932648.0</td>\n",
       "      <td>2022.0</td>\n",
       "      <td>...</td>\n",
       "      <td>1.965517</td>\n",
       "      <td>0.310345</td>\n",
       "      <td>2.620690</td>\n",
       "      <td>2.517241</td>\n",
       "      <td>15.620690</td>\n",
       "      <td>19.7</td>\n",
       "      <td>NaN</td>\n",
       "      <td>NaN</td>\n",
       "      <td>17.502705</td>\n",
       "      <td>1.981935</td>\n",
       "    </tr>\n",
       "    <tr>\n",
       "      <td>10</td>\n",
       "      <td>John Wall</td>\n",
       "      <td>PG</td>\n",
       "      <td>WAS</td>\n",
       "      <td>29.0</td>\n",
       "      <td>4.0</td>\n",
       "      <td>171131520.0</td>\n",
       "      <td>171131520.0</td>\n",
       "      <td>100.00</td>\n",
       "      <td>42782880.0</td>\n",
       "      <td>2023.0</td>\n",
       "      <td>...</td>\n",
       "      <td>NaN</td>\n",
       "      <td>NaN</td>\n",
       "      <td>NaN</td>\n",
       "      <td>NaN</td>\n",
       "      <td>NaN</td>\n",
       "      <td>NaN</td>\n",
       "      <td>NaN</td>\n",
       "      <td>NaN</td>\n",
       "      <td>17.571649</td>\n",
       "      <td>2.047654</td>\n",
       "    </tr>\n",
       "    <tr>\n",
       "      <td>13</td>\n",
       "      <td>Kevin Durant</td>\n",
       "      <td>SF</td>\n",
       "      <td>BKNSigned w/GSW</td>\n",
       "      <td>31.0</td>\n",
       "      <td>4.0</td>\n",
       "      <td>164255700.0</td>\n",
       "      <td>159955700.0</td>\n",
       "      <td>97.38</td>\n",
       "      <td>41063925.0</td>\n",
       "      <td>2023.0</td>\n",
       "      <td>...</td>\n",
       "      <td>NaN</td>\n",
       "      <td>NaN</td>\n",
       "      <td>NaN</td>\n",
       "      <td>NaN</td>\n",
       "      <td>NaN</td>\n",
       "      <td>NaN</td>\n",
       "      <td>NaN</td>\n",
       "      <td>NaN</td>\n",
       "      <td>17.530641</td>\n",
       "      <td>2.008564</td>\n",
       "    </tr>\n",
       "  </tbody>\n",
       "</table>\n",
       "<p>6 rows × 43 columns</p>\n",
       "</div>"
      ],
      "text/plain": [
       "               Player Pos_x           Team_x  Age_x  Yrs      Dollars  \\\n",
       "9        James Harden    SG              HOU   30.0  4.0  171131520.0   \n",
       "0   Russell Westbrook    PG  HOUSigned w/OKC   31.0  5.0  206794070.0   \n",
       "1       Stephen Curry    PG              GSW   32.0  5.0  201158790.0   \n",
       "14         Chris Paul    PG  OKCSigned w/HOU   35.0  4.0  159730592.0   \n",
       "10          John Wall    PG              WAS   29.0  4.0  171131520.0   \n",
       "13       Kevin Durant    SF  BKNSigned w/GSW   31.0  4.0  164255700.0   \n",
       "\n",
       "     Guaranteed   % GTD  Avg. Salary  Free Agent  ...       STL       BLK  \\\n",
       "9   171131520.0  100.00   42782880.0      2023.0  ...  1.700000  0.900000   \n",
       "0   206794070.0  100.00   41358814.0      2023.0  ...  1.945205  0.452055   \n",
       "1   201158790.0  100.00   40231758.0      2022.0  ...  1.568627  0.156863   \n",
       "14  159730592.0  100.00   39932648.0      2022.0  ...  1.965517  0.310345   \n",
       "10  171131520.0  100.00   42782880.0      2023.0  ...       NaN       NaN   \n",
       "13  159955700.0   97.38   41063925.0      2023.0  ...       NaN       NaN   \n",
       "\n",
       "         TOV        PF        PTS   PER  Team_y    GS  salary_log  \\\n",
       "9   4.500000  3.400000  34.400000  28.4     HOU  61.0   17.571649   \n",
       "0   4.452055  3.356164  22.945205  21.1     NaN   NaN   17.537796   \n",
       "1   3.000000  2.235294  26.392157  28.2     NaN   NaN   17.510167   \n",
       "14  2.620690  2.517241  15.620690  19.7     NaN   NaN   17.502705   \n",
       "10       NaN       NaN        NaN   NaN     NaN   NaN   17.571649   \n",
       "13       NaN       NaN        NaN   NaN     NaN   NaN   17.530641   \n",
       "\n",
       "    norm_log_salary  \n",
       "9          2.047654  \n",
       "0          2.015385  \n",
       "1          1.989048  \n",
       "14         1.981935  \n",
       "10         2.047654  \n",
       "13         2.008564  \n",
       "\n",
       "[6 rows x 43 columns]"
      ]
     },
     "execution_count": 19,
     "metadata": {},
     "output_type": "execute_result"
    }
   ],
   "source": [
    "#Players\n",
    "df_final_higher = df_final[df_final['norm_log_salary'] > z_score_sup]\n",
    "df_final_higher"
   ]
  },
  {
   "cell_type": "markdown",
   "metadata": {},
   "source": [
    "Curry is the only player with higher than average salary and is in the top 10 in PER.\n",
    "None of these players are top ten in scoring."
   ]
  },
  {
   "cell_type": "code",
   "execution_count": 21,
   "metadata": {},
   "outputs": [
    {
     "name": "stdout",
     "output_type": "stream",
     "text": [
      "Players with a higher salary than the average: \n",
      "Total - 6\n",
      "Rate - 1.48%\n"
     ]
    }
   ],
   "source": [
    "print(f\"\"\"Players with a higher salary than the average: \n",
    "Total - {df_final_higher.shape[0]}\n",
    "Rate - {df_final_higher.shape[0] / df_final.shape[0] * 100:.2f}%\"\"\")"
   ]
  },
  {
   "cell_type": "code",
   "execution_count": 22,
   "metadata": {},
   "outputs": [
    {
     "name": "stdout",
     "output_type": "stream",
     "text": [
      "P-value: 0.020\n",
      "Alpha Max: 0.980\n",
      "We can confirm that the highest salary is on the distribution!\n"
     ]
    }
   ],
   "source": [
    "#p-value and alpha max to the highest salary\n",
    "p_value = st.norm(norm_mean, norm_std).sf(df_final['norm_log_salary'].max())\n",
    "alpha = 1 - p_value\n",
    "print(f'P-value: {p_value:.3f}\\nAlpha Max: {alpha:.3f}\\nWe can confirm that the highest salary is on the distribution!')"
   ]
  },
  {
   "cell_type": "code",
   "execution_count": 23,
   "metadata": {},
   "outputs": [
    {
     "data": {
      "text/plain": [
       "8672969.575308641"
      ]
     },
     "execution_count": 23,
     "metadata": {},
     "output_type": "execute_result"
    }
   ],
   "source": [
    "np.mean(df_final['Avg. Salary'])"
   ]
  },
  {
   "cell_type": "code",
   "execution_count": 24,
   "metadata": {},
   "outputs": [
    {
     "name": "stdout",
     "output_type": "stream",
     "text": [
      "data1: mean=8672969.575 stdv=9610307.369\n",
      "data2: mean=25.953 stdv=4.414\n"
     ]
    },
    {
     "data": {
      "image/png": "[encoded data removed]",
      "text/plain": [
       "<Figure size 432x288 with 1 Axes>"
      ]
     },
     "metadata": {
      "needs_background": "light"
     },
     "output_type": "display_data"
    }
   ],
   "source": [
    "data1 = df_final['Avg. Salary']\n",
    "data2 = df_final['Age_x']\n",
    "# summarize\n",
    "print('data1: mean=%.3f stdv=%.3f' % (np.mean(data1), np.std(data1)))\n",
    "print('data2: mean=%.3f stdv=%.3f' % (np.mean(data2), np.std(data2)))\n",
    "# plot\n",
    "plt.scatter(data1, data2)\n",
    "plt.show()"
   ]
  },
  {
   "cell_type": "code",
   "execution_count": 25,
   "metadata": {},
   "outputs": [
    {
     "data": {
      "text/plain": [
       "array([[9.25866167e+13, 1.73263749e+07],\n",
       "       [1.73263749e+07, 1.95349224e+01]])"
      ]
     },
     "execution_count": 25,
     "metadata": {},
     "output_type": "execute_result"
    }
   ],
   "source": [
    "#cov(X, Y) = (sum (x - mean(X)) * (y - mean(Y)) ) * 1/(n-1)\n",
    "np.cov(data1, data2)"
   ]
  },
  {
   "cell_type": "code",
   "execution_count": 26,
   "metadata": {},
   "outputs": [
    {
     "name": "stdout",
     "output_type": "stream",
     "text": [
      "Pearsons correlation: 0.407\n"
     ]
    }
   ],
   "source": [
    "corr, _ = st.pearsonr(data1, data2)\n",
    "print('Pearsons correlation: %.3f' % corr)"
   ]
  },
  {
   "cell_type": "code",
   "execution_count": 27,
   "metadata": {},
   "outputs": [
    {
     "name": "stdout",
     "output_type": "stream",
     "text": [
      "Spearmans correlation: 0.500\n"
     ]
    }
   ],
   "source": [
    "corr, _ = st.spearmanr(data1, data2)\n",
    "print('Spearmans correlation: %.3f' % corr)"
   ]
  },
  {
   "cell_type": "code",
   "execution_count": null,
   "metadata": {},
   "outputs": [],
   "source": []
  }
 ],
 "metadata": {
  "kernelspec": {
   "display_name": "Python 3",
   "language": "python",
   "name": "python3"
  },
  "language_info": {
   "codemirror_mode": {
    "name": "ipython",
    "version": 3
   },
   "file_extension": ".py",
   "mimetype": "text/x-python",
   "name": "python",
   "nbconvert_exporter": "python",
   "pygments_lexer": "ipython3",
   "version": "3.7.4"
  }
 },
 "nbformat": 4,
 "nbformat_minor": 2
}
